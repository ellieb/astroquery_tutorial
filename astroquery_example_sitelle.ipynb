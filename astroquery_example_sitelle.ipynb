{
 "cells": [
  {
   "cell_type": "markdown",
   "metadata": {},
   "source": [
    "# Exploring Data Cubes with SITELLE\n",
    "\n",
    "In this notebook, we will explore data cubes from [SITELLE](http://www.cfht.hawaii.edu/Instruments/Sitelle/), an optical imaging spectrometer at the CFHT. We will query and collect data using tools provided by the [Canadian Astronomical Data Centre](http://www.cadc-ccda.hia-iha.nrc-cnrc.gc.ca ) then make an interactive widget to explore different energy bands in the M33 galaxy.\n",
    "\n",
    "## Table of Contents\n",
    "* [1. Introduction](#1.-Introduction)\n",
    "* [2. Setup](#2.-Setup)\n",
    "    * [2.1 Using pip](#2.1-Using-pip)\n",
    "    * [2.2 From source](#2.2-From-source)\n",
    "* [3. Querying](#3.-Querying)\n",
    "* [4. Fetching Data](#4.-Fetching-Data)\n",
    "* [5. Imaging Results](#5.-Imaging-Results)\n",
    "    * [5.1 Deep frame preview](#5.1-Deep-frame-preview)\n",
    "    * [5.2 Extract spectrum](#5.2-Extract-spectrum)\n",
    "    * [5.3 Characteristic lines [OII]3727, [OIII]5007, H$\\alpha$](#5.3-Characteristic-lines-[OII]3727,-[OIII]5007,-H$\\alpha$)\n",
    "    * [5.4 Velocity of objects](#5.4-Velocity-of-objects)\n",
    "* [6. Cube Widget](#6.-Cube-Widget)\n",
    "    \n",
    "## 1. Introduction\n",
    "\n",
    "This tutorial will use packages such as astropy, astroquery, ORCS, matplotlib, and ipywidgets, to make an interactive widget that shows the M33 galaxy in different filters throughout energies centered around different characterisic lines, namely [OII]3727, [OIII]5007, and H$\\alpha$.\n",
    "\n",
    "\n",
    "## 2. Setup\n",
    "This tutorial will go through some of the basic functionalities of the CADC astroquery package. The CADC module can be installed in two ways:\n",
    "\n",
    "### 2.1 Using pip\n",
    "The CADC module is only available with the pre-release of the astroquery module, and can be installed using the command:\n",
    "\n",
    "```\n",
    "    pip install --pre --upgrade astroquery\n",
    "```\n",
    "\n",
    "### 2.2 From source\n",
    "Alternatively, you can clone and install from the source:\n",
    "```\n",
    "    # If you have a github account:\n",
    "    git clone git@github.com:astropy/astroquery.git\n",
    "    # If you do not:\n",
    "    git clone https://github.com/astropy/astroquery.git\n",
    "    cd astroquery\n",
    "    python setup.py install\n",
    "```\n",
    "Note that these commands can also be done in a Jupyter notebook by either declaring the code cell a bash cell by pasting `%%bash` at the top of the cell, or preceding each line with a `!`. More information about astroquery can be found at the [astroquery github repository](https://github.com/astropy/astroquery). \n",
    "\n",
    "\n",
    "## 3. Querying\n",
    "\n",
    "The SITELLE data cubes will be in HDF5 file format, which is best suited to store large and complex data. The [ORCS package](https://github.com/thomasorb/orcs) is an analysis engine specifically tailored to handle SITELLE data cubes, so that is what will be used in this tutorial. More information can be found in the [ORCS documentation](https://orcs.readthedocs.io/en/latest/)."
   ]
  },
  {
   "cell_type": "code",
   "execution_count": 1,
   "metadata": {},
   "outputs": [],
   "source": [
    "%matplotlib inline\n",
    "import matplotlib.animation as animation\n",
    "import matplotlib.pyplot as plt\n",
    "import numpy as np\n",
    "from matplotlib.colors import LogNorm, PowerNorm\n",
    "\n",
    "import orb\n",
    "from orcs.core import HDFCube\n"
   ]
  },
  {
   "cell_type": "markdown",
   "metadata": {},
   "source": [
    "Let's define what kind of objects we want to retreive from the CADC database. The objects should have the following traits:\n",
    "- Instrument name is 'SITELLE'\n",
    "- Collection is 'CFHT'\n",
    "- Data is of type 'cube'\n",
    "- Target name contains 'M33_field7'\n",
    "- [Energy filter](http://www.cfht.hawaii.edu/Instruments/Sitelle/SITELLE_filters.php) is one of 'SN1', 'SN2', or 'SN3'\n",
    "- Quality is not junk!\n",
    "\n",
    "Now that we have the list of query parameters, we can build a query in ADQL."
   ]
  },
  {
   "cell_type": "code",
   "execution_count": 2,
   "metadata": {
    "scrolled": true
   },
   "outputs": [
    {
     "data": {
      "text/html": [
       "&lt;Table masked=True length=3&gt;\n",
       "<table id=\"table139898732482000-935078\" class=\"table-striped table-bordered table-condensed\">\n",
       "<thead><tr><th>idx</th><th>caomPublisherID</th><th>productID</th><th>target_name</th><th>energy_bandpassName</th><th>calibrationLevel</th><th>dataRelease</th><th>collection</th><th>proposal_title</th><th>instrument_name</th></tr></thead>\n",
       "<tr><td>0</td><td>ivo://cadc.nrc.ca/CFHT?2326978p/2326978p</td><td>2326978p</td><td>m33_field7</td><td>SN1</td><td>2</td><td>2018-10-12T00:00:00.000</td><td>CFHT</td><td>The SIGNALS Project</td><td>SITELLE</td></tr>\n",
       "<tr><td>1</td><td>ivo://cadc.nrc.ca/CFHT?2325242p/2325242p</td><td>2325242p</td><td>m33_field7</td><td>SN2</td><td>2</td><td>2018-10-12T00:00:00.000</td><td>CFHT</td><td>The SIGNALS Project</td><td>SITELLE</td></tr>\n",
       "<tr><td>2</td><td>ivo://cadc.nrc.ca/CFHT?2309128p/2309128p</td><td>2309128p</td><td>m33_field7</td><td>SN3</td><td>2</td><td>2018-10-12T00:00:00.000</td><td>CFHT</td><td>The SIGNALS Project</td><td>SITELLE</td></tr>\n",
       "</table><style>table.dataTable {clear: both; width: auto !important; margin: 0 !important;}\n",
       ".dataTables_info, .dataTables_length, .dataTables_filter, .dataTables_paginate{\n",
       "display: inline-block; margin-right: 1em; }\n",
       ".paginate_button { margin-right: 5px; }\n",
       "</style>\n",
       "<script>\n",
       "\n",
       "var astropy_sort_num = function(a, b) {\n",
       "    var a_num = parseFloat(a);\n",
       "    var b_num = parseFloat(b);\n",
       "\n",
       "    if (isNaN(a_num) && isNaN(b_num))\n",
       "        return ((a < b) ? -1 : ((a > b) ? 1 : 0));\n",
       "    else if (!isNaN(a_num) && !isNaN(b_num))\n",
       "        return ((a_num < b_num) ? -1 : ((a_num > b_num) ? 1 : 0));\n",
       "    else\n",
       "        return isNaN(a_num) ? -1 : 1;\n",
       "}\n",
       "\n",
       "require.config({paths: {\n",
       "    datatables: 'https://cdn.datatables.net/1.10.12/js/jquery.dataTables.min'\n",
       "}});\n",
       "require([\"datatables\"], function(){\n",
       "    console.log(\"$('#table139898732482000-935078').dataTable()\");\n",
       "    \n",
       "jQuery.extend( jQuery.fn.dataTableExt.oSort, {\n",
       "    \"optionalnum-asc\": astropy_sort_num,\n",
       "    \"optionalnum-desc\": function (a,b) { return -astropy_sort_num(a, b); }\n",
       "});\n",
       "\n",
       "    $('#table139898732482000-935078').dataTable({\n",
       "        order: [],\n",
       "        pageLength: 50,\n",
       "        lengthMenu: [[10, 25, 50, 100, 500, 1000, -1], [10, 25, 50, 100, 500, 1000, 'All']],\n",
       "        pagingType: \"full_numbers\",\n",
       "        columnDefs: [{targets: [0, 5], type: \"optionalnum\"}]\n",
       "    });\n",
       "});\n",
       "</script>\n"
      ],
      "text/plain": [
       "<IPython.core.display.HTML object>"
      ]
     },
     "execution_count": 2,
     "metadata": {},
     "output_type": "execute_result"
    }
   ],
   "source": [
    "#TODO: Ask about target_name as `m33_field7` -> m31 gave no results!\n",
    "#AND Observation.proposal_project = 'SIGNALS'\n",
    "\n",
    "from astroquery.cadc import Cadc\n",
    "\n",
    "cadc = Cadc()\n",
    "\n",
    "query = '''SELECT * FROM caom2.Plane AS Plane \n",
    "JOIN caom2.Observation AS Observation ON Plane.obsID = Observation.obsID \n",
    "WHERE  ( Observation.instrument_name = 'SITELLE' \n",
    "AND Observation.collection = 'CFHT' \n",
    "AND Plane.dataProductType = 'cube' \n",
    "AND LOWER(Observation.target_name) LIKE '%m33_field7%'\n",
    "AND Plane.energy_bandpassName IN ('SN1', 'SN2', 'SN3') \n",
    "AND  ( Plane.quality_flag IS NULL OR Plane.quality_flag != 'junk' ) )'''\n",
    "\n",
    "job = cadc.run_query(query, 'sync')\n",
    "results = job.get_results()\n",
    "\n",
    "cols = ['caomPublisherID', 'productID', 'target_name',\n",
    "        'energy_bandpassName', 'calibrationLevel', 'dataRelease', \n",
    "        'collection', 'proposal_title', 'instrument_name']\n",
    "results[cols].show_in_notebook()"
   ]
  },
  {
   "cell_type": "markdown",
   "metadata": {},
   "source": [
    "## 4. Fetching Data\n",
    "Now that we have the table of results, we can use the `get_data_urls` function from the CADC astroquery module to grab all associated URLs, and only select the `.hdf5` access urls. We will also build the filename from the target name, product ID, and energy filter name. "
   ]
  },
  {
   "cell_type": "code",
   "execution_count": 3,
   "metadata": {
    "scrolled": true
   },
   "outputs": [
    {
     "data": {
      "text/plain": [
       "[{'fname': 'm33_field7.2326978p.SN1.hdf5',\n",
       "  'url': 'https://www.cadc-ccda.hia-iha.nrc-cnrc.gc.ca/data/pub/CFHT/2326978z.hdf5?RUNID=jatqq9l5mu1ifq9l'},\n",
       " {'fname': 'm33_field7.2325242p.SN2.hdf5',\n",
       "  'url': 'https://www.cadc-ccda.hia-iha.nrc-cnrc.gc.ca/data/pub/CFHT/2325242z.hdf5?RUNID=vqxdczn7k9seamfc'},\n",
       " {'fname': 'm33_field7.2309128p.SN3.hdf5',\n",
       "  'url': 'https://www.cadc-ccda.hia-iha.nrc-cnrc.gc.ca/data/pub/CFHT/2309128z.hdf5?RUNID=dbwvym1m19diwwee'}]"
      ]
     },
     "execution_count": 3,
     "metadata": {},
     "output_type": "execute_result"
    }
   ],
   "source": [
    "import re\n",
    "\n",
    "results_list = []\n",
    "for idx in range(len(results)):\n",
    "    urls = cadc.get_data_urls(results[idx:idx+1], include_auxiliaries=True)\n",
    "    hdf5_url = next((url.encode('utf-8') for url in urls if '.hdf5' in url), None)\n",
    "    if hdf5_url:\n",
    "        fname = '{}.{}.{}.hdf5'.format(results[idx]['target_name'], \n",
    "                                       results[idx]['productID'], \n",
    "                                       results[idx]['energy_bandpassName']) \n",
    "        results_list.append({'fname': fname, 'url': hdf5_url})\n",
    "\n",
    "results_list"
   ]
  },
  {
   "cell_type": "markdown",
   "metadata": {},
   "source": [
    "Using the requests package, we will use the access url and write the data under the filename generated in the previous code block."
   ]
  },
  {
   "cell_type": "code",
   "execution_count": 4,
   "metadata": {},
   "outputs": [],
   "source": [
    "# TODO: Downloading files seems to work on mybinder buts its slow (~15 mins) and a lot of information, solution?\n",
    "import requests\n",
    "\n",
    "for product in results_list:\n",
    "    resp = requests.get(product['url'], stream=True)\n",
    "    if resp.status_code == 200:\n",
    "        with open(product['fname'], 'wb') as f:\n",
    "            for chunk in resp.iter_content(1024):\n",
    "                f.write(chunk)\n"
   ]
  },
  {
   "cell_type": "markdown",
   "metadata": {},
   "source": [
    "Now we open the files and then access and summarize the information."
   ]
  },
  {
   "cell_type": "code",
   "execution_count": 5,
   "metadata": {},
   "outputs": [
    {
     "name": "stderr",
     "output_type": "stream",
     "text": [
      "\u001b[0mINFO| Data shape : (2048, 2064, 171)\u001b[0m\n",
      "\u001b[0mINFO| Cube is in WAVENUMBER (cm-1)\u001b[0m\n",
      "\u001b[0mINFO| Cube is CALIBRATED in wavenumber\u001b[0m\n",
      "\u001b[0mINFO| Data shape : (2048, 2064, 220)\u001b[0m\n",
      "\u001b[0mINFO| Cube is in WAVENUMBER (cm-1)\u001b[0m\n",
      "\u001b[0mINFO| Cube is CALIBRATED in wavenumber\u001b[0m\n"
     ]
    },
    {
     "ename": "IOError",
     "evalue": "Unable to open file (truncated file: eof = 2809766983, sblock->base_addr = 0, stored_eof = 14304461076)",
     "output_type": "error",
     "traceback": [
      "\u001b[0;31m\u001b[0m",
      "\u001b[0;31mIOError\u001b[0mTraceback (most recent call last)",
      "\u001b[0;32m<ipython-input-5-e65c09c9230c>\u001b[0m in \u001b[0;36m<module>\u001b[0;34m()\u001b[0m\n\u001b[1;32m      1\u001b[0m \u001b[0;31m# Load the cubes\u001b[0m\u001b[0;34m\u001b[0m\u001b[0;34m\u001b[0m\u001b[0m\n\u001b[0;32m----> 2\u001b[0;31m \u001b[0mcubes\u001b[0m \u001b[0;34m=\u001b[0m \u001b[0;34m[\u001b[0m\u001b[0mHDFCube\u001b[0m\u001b[0;34m(\u001b[0m\u001b[0mresult\u001b[0m\u001b[0;34m[\u001b[0m\u001b[0;34m'fname'\u001b[0m\u001b[0;34m]\u001b[0m\u001b[0;34m)\u001b[0m \u001b[0;32mfor\u001b[0m \u001b[0mresult\u001b[0m \u001b[0;32min\u001b[0m \u001b[0mresults_list\u001b[0m\u001b[0;34m]\u001b[0m\u001b[0;34m\u001b[0m\u001b[0m\n\u001b[0m\u001b[1;32m      3\u001b[0m \u001b[0mlines\u001b[0m \u001b[0;34m=\u001b[0m \u001b[0;34m[\u001b[0m\u001b[0;34m'[OII]3727'\u001b[0m\u001b[0;34m,\u001b[0m \u001b[0;34m'[OIII]5007'\u001b[0m\u001b[0;34m,\u001b[0m \u001b[0;34m'Halpha'\u001b[0m\u001b[0;34m]\u001b[0m\u001b[0;34m\u001b[0m\u001b[0m\n\u001b[1;32m      4\u001b[0m \u001b[0mbands\u001b[0m \u001b[0;34m=\u001b[0m \u001b[0;34m[\u001b[0m\u001b[0;34m'SN1'\u001b[0m\u001b[0;34m,\u001b[0m \u001b[0;34m'SN2'\u001b[0m\u001b[0;34m,\u001b[0m \u001b[0;34m'SN3'\u001b[0m\u001b[0;34m]\u001b[0m\u001b[0;34m\u001b[0m\u001b[0m\n\u001b[1;32m      5\u001b[0m \u001b[0;34m\u001b[0m\u001b[0m\n",
      "\u001b[0;32m/opt/conda/envs/python2/lib/python2.7/site-packages/orcs/core.pyc\u001b[0m in \u001b[0;36m__init__\u001b[0;34m(self, cube_path, debug, **kwargs)\u001b[0m\n\u001b[1;32m     79\u001b[0m         \u001b[0mself\u001b[0m\u001b[0;34m.\u001b[0m\u001b[0mcube_path\u001b[0m \u001b[0;34m=\u001b[0m \u001b[0mcube_path\u001b[0m\u001b[0;34m\u001b[0m\u001b[0m\n\u001b[1;32m     80\u001b[0m         \u001b[0minstrument\u001b[0m \u001b[0;34m=\u001b[0m \u001b[0mNone\u001b[0m\u001b[0;34m\u001b[0m\u001b[0m\n\u001b[0;32m---> 81\u001b[0;31m         \u001b[0;32mif\u001b[0m \u001b[0;34m'SITELLE'\u001b[0m \u001b[0;32min\u001b[0m \u001b[0mself\u001b[0m\u001b[0;34m.\u001b[0m\u001b[0mget_header\u001b[0m\u001b[0;34m(\u001b[0m\u001b[0;34m)\u001b[0m\u001b[0;34m[\u001b[0m\u001b[0;34m'INSTRUME'\u001b[0m\u001b[0;34m]\u001b[0m\u001b[0;34m:\u001b[0m\u001b[0;34m\u001b[0m\u001b[0m\n\u001b[0m\u001b[1;32m     82\u001b[0m             \u001b[0minstrument\u001b[0m \u001b[0;34m=\u001b[0m \u001b[0;34m'sitelle'\u001b[0m\u001b[0;34m\u001b[0m\u001b[0m\n\u001b[1;32m     83\u001b[0m \u001b[0;34m\u001b[0m\u001b[0m\n",
      "\u001b[0;32m/opt/conda/envs/python2/lib/python2.7/site-packages/orcs/core.pyc\u001b[0m in \u001b[0;36mget_header\u001b[0;34m(self)\u001b[0m\n\u001b[1;32m   1556\u001b[0m         \u001b[0;34m\"\"\"Return cube header.\"\"\"\u001b[0m\u001b[0;34m\u001b[0m\u001b[0m\n\u001b[1;32m   1557\u001b[0m         \u001b[0;32mif\u001b[0m \u001b[0;32mnot\u001b[0m \u001b[0mhasattr\u001b[0m\u001b[0;34m(\u001b[0m\u001b[0mself\u001b[0m\u001b[0;34m,\u001b[0m \u001b[0;34m'header'\u001b[0m\u001b[0;34m)\u001b[0m\u001b[0;34m:\u001b[0m\u001b[0;34m\u001b[0m\u001b[0m\n\u001b[0;32m-> 1558\u001b[0;31m             \u001b[0mheader\u001b[0m \u001b[0;34m=\u001b[0m \u001b[0mself\u001b[0m\u001b[0;34m.\u001b[0m\u001b[0mget_cube_header\u001b[0m\u001b[0;34m(\u001b[0m\u001b[0;34m)\u001b[0m\u001b[0;34m\u001b[0m\u001b[0m\n\u001b[0m\u001b[1;32m   1559\u001b[0m             \u001b[0mheader\u001b[0m\u001b[0;34m[\u001b[0m\u001b[0;34m'CTYPE3'\u001b[0m\u001b[0;34m]\u001b[0m \u001b[0;34m=\u001b[0m \u001b[0;34m'WAVE-SIP'\u001b[0m \u001b[0;31m# avoid a warning for\u001b[0m\u001b[0;34m\u001b[0m\u001b[0m\n\u001b[1;32m   1560\u001b[0m                                           \u001b[0;31m# inconsistency\u001b[0m\u001b[0;34m\u001b[0m\u001b[0;34m\u001b[0m\u001b[0m\n",
      "\u001b[0;32m/opt/conda/envs/python2/lib/python2.7/site-packages/orb/core.pyc\u001b[0m in \u001b[0;36mget_cube_header\u001b[0;34m(self)\u001b[0m\n\u001b[1;32m   4495\u001b[0m         \"\"\"\n\u001b[1;32m   4496\u001b[0m \u001b[0;34m\u001b[0m\u001b[0m\n\u001b[0;32m-> 4497\u001b[0;31m         \u001b[0;32mwith\u001b[0m \u001b[0mself\u001b[0m\u001b[0;34m.\u001b[0m\u001b[0mopen_hdf5\u001b[0m\u001b[0;34m(\u001b[0m\u001b[0mself\u001b[0m\u001b[0;34m.\u001b[0m\u001b[0mcube_path\u001b[0m\u001b[0;34m,\u001b[0m \u001b[0;34m'r'\u001b[0m\u001b[0;34m)\u001b[0m \u001b[0;32mas\u001b[0m \u001b[0mf\u001b[0m\u001b[0;34m:\u001b[0m\u001b[0;34m\u001b[0m\u001b[0m\n\u001b[0m\u001b[1;32m   4498\u001b[0m             \u001b[0;32mif\u001b[0m \u001b[0;34m'header'\u001b[0m \u001b[0;32min\u001b[0m \u001b[0mf\u001b[0m\u001b[0;34m:\u001b[0m\u001b[0;34m\u001b[0m\u001b[0m\n\u001b[1;32m   4499\u001b[0m                 \u001b[0;32mreturn\u001b[0m \u001b[0mself\u001b[0m\u001b[0;34m.\u001b[0m\u001b[0m_header_hdf52fits\u001b[0m\u001b[0;34m(\u001b[0m\u001b[0mf\u001b[0m\u001b[0;34m[\u001b[0m\u001b[0;34m'header'\u001b[0m\u001b[0;34m]\u001b[0m\u001b[0;34m[\u001b[0m\u001b[0;34m:\u001b[0m\u001b[0;34m]\u001b[0m\u001b[0;34m)\u001b[0m\u001b[0;34m\u001b[0m\u001b[0m\n",
      "\u001b[0;32m/opt/conda/envs/python2/lib/python2.7/site-packages/orb/core.pyc\u001b[0m in \u001b[0;36mopen_hdf5\u001b[0;34m(self, file_path, mode)\u001b[0m\n\u001b[1;32m   1666\u001b[0m                     \u001b[0mos\u001b[0m\u001b[0;34m.\u001b[0m\u001b[0mmakedirs\u001b[0m\u001b[0;34m(\u001b[0m\u001b[0mdirname\u001b[0m\u001b[0;34m)\u001b[0m\u001b[0;34m\u001b[0m\u001b[0m\n\u001b[1;32m   1667\u001b[0m \u001b[0;34m\u001b[0m\u001b[0m\n\u001b[0;32m-> 1668\u001b[0;31m         \u001b[0mf\u001b[0m \u001b[0;34m=\u001b[0m \u001b[0mh5py\u001b[0m\u001b[0;34m.\u001b[0m\u001b[0mFile\u001b[0m\u001b[0;34m(\u001b[0m\u001b[0mfile_path\u001b[0m\u001b[0;34m,\u001b[0m \u001b[0mmode\u001b[0m\u001b[0;34m)\u001b[0m\u001b[0;34m\u001b[0m\u001b[0m\n\u001b[0m\u001b[1;32m   1669\u001b[0m \u001b[0;34m\u001b[0m\u001b[0m\n\u001b[1;32m   1670\u001b[0m         \u001b[0;32mif\u001b[0m \u001b[0mmode\u001b[0m \u001b[0;32min\u001b[0m \u001b[0;34m[\u001b[0m\u001b[0;34m'w'\u001b[0m\u001b[0;34m,\u001b[0m \u001b[0;34m'a'\u001b[0m\u001b[0;34m,\u001b[0m \u001b[0;34m'w-'\u001b[0m\u001b[0;34m,\u001b[0m \u001b[0;34m'x'\u001b[0m\u001b[0;34m,\u001b[0m \u001b[0;34m'r+'\u001b[0m\u001b[0;34m]\u001b[0m\u001b[0;34m:\u001b[0m\u001b[0;34m\u001b[0m\u001b[0m\n",
      "\u001b[0;32m/opt/conda/envs/python2/lib/python2.7/site-packages/h5py/_hl/files.pyc\u001b[0m in \u001b[0;36m__init__\u001b[0;34m(self, name, mode, driver, libver, userblock_size, swmr, rdcc_nslots, rdcc_nbytes, rdcc_w0, track_order, **kwds)\u001b[0m\n\u001b[1;32m    392\u001b[0m                 fid = make_fid(name, mode, userblock_size,\n\u001b[1;32m    393\u001b[0m                                \u001b[0mfapl\u001b[0m\u001b[0;34m,\u001b[0m \u001b[0mfcpl\u001b[0m\u001b[0;34m=\u001b[0m\u001b[0mmake_fcpl\u001b[0m\u001b[0;34m(\u001b[0m\u001b[0mtrack_order\u001b[0m\u001b[0;34m=\u001b[0m\u001b[0mtrack_order\u001b[0m\u001b[0;34m)\u001b[0m\u001b[0;34m,\u001b[0m\u001b[0;34m\u001b[0m\u001b[0m\n\u001b[0;32m--> 394\u001b[0;31m                                swmr=swmr)\n\u001b[0m\u001b[1;32m    395\u001b[0m \u001b[0;34m\u001b[0m\u001b[0m\n\u001b[1;32m    396\u001b[0m             \u001b[0;32mif\u001b[0m \u001b[0mswmr_support\u001b[0m\u001b[0;34m:\u001b[0m\u001b[0;34m\u001b[0m\u001b[0m\n",
      "\u001b[0;32m/opt/conda/envs/python2/lib/python2.7/site-packages/h5py/_hl/files.pyc\u001b[0m in \u001b[0;36mmake_fid\u001b[0;34m(name, mode, userblock_size, fapl, fcpl, swmr)\u001b[0m\n\u001b[1;32m    168\u001b[0m         \u001b[0;32mif\u001b[0m \u001b[0mswmr\u001b[0m \u001b[0;32mand\u001b[0m \u001b[0mswmr_support\u001b[0m\u001b[0;34m:\u001b[0m\u001b[0;34m\u001b[0m\u001b[0m\n\u001b[1;32m    169\u001b[0m             \u001b[0mflags\u001b[0m \u001b[0;34m|=\u001b[0m \u001b[0mh5f\u001b[0m\u001b[0;34m.\u001b[0m\u001b[0mACC_SWMR_READ\u001b[0m\u001b[0;34m\u001b[0m\u001b[0m\n\u001b[0;32m--> 170\u001b[0;31m         \u001b[0mfid\u001b[0m \u001b[0;34m=\u001b[0m \u001b[0mh5f\u001b[0m\u001b[0;34m.\u001b[0m\u001b[0mopen\u001b[0m\u001b[0;34m(\u001b[0m\u001b[0mname\u001b[0m\u001b[0;34m,\u001b[0m \u001b[0mflags\u001b[0m\u001b[0;34m,\u001b[0m \u001b[0mfapl\u001b[0m\u001b[0;34m=\u001b[0m\u001b[0mfapl\u001b[0m\u001b[0;34m)\u001b[0m\u001b[0;34m\u001b[0m\u001b[0m\n\u001b[0m\u001b[1;32m    171\u001b[0m     \u001b[0;32melif\u001b[0m \u001b[0mmode\u001b[0m \u001b[0;34m==\u001b[0m \u001b[0;34m'r+'\u001b[0m\u001b[0;34m:\u001b[0m\u001b[0;34m\u001b[0m\u001b[0m\n\u001b[1;32m    172\u001b[0m         \u001b[0mfid\u001b[0m \u001b[0;34m=\u001b[0m \u001b[0mh5f\u001b[0m\u001b[0;34m.\u001b[0m\u001b[0mopen\u001b[0m\u001b[0;34m(\u001b[0m\u001b[0mname\u001b[0m\u001b[0;34m,\u001b[0m \u001b[0mh5f\u001b[0m\u001b[0;34m.\u001b[0m\u001b[0mACC_RDWR\u001b[0m\u001b[0;34m,\u001b[0m \u001b[0mfapl\u001b[0m\u001b[0;34m=\u001b[0m\u001b[0mfapl\u001b[0m\u001b[0;34m)\u001b[0m\u001b[0;34m\u001b[0m\u001b[0m\n",
      "\u001b[0;32mh5py/_objects.pyx\u001b[0m in \u001b[0;36mh5py._objects.with_phil.wrapper\u001b[0;34m()\u001b[0m\n",
      "\u001b[0;32mh5py/_objects.pyx\u001b[0m in \u001b[0;36mh5py._objects.with_phil.wrapper\u001b[0;34m()\u001b[0m\n",
      "\u001b[0;32mh5py/h5f.pyx\u001b[0m in \u001b[0;36mh5py.h5f.open\u001b[0;34m()\u001b[0m\n",
      "\u001b[0;31mIOError\u001b[0m: Unable to open file (truncated file: eof = 2809766983, sblock->base_addr = 0, stored_eof = 14304461076)"
     ]
    }
   ],
   "source": [
    "# Load the cubes \n",
    "cubes = [HDFCube(result['fname']) for result in results_list]\n",
    "lines = ['[OII]3727', '[OIII]5007', 'Halpha']\n",
    "bands = ['SN1', 'SN2', 'SN3']\n",
    "\n",
    "# The coordinates of the HII region and the sky region\n",
    "xrhii, yrhii = (690, 270)\n",
    "xsky, ysky = (1405, 780)\n",
    "aperture = 3  # Aperture for the spectrum integration (circle)\n",
    "data_list = []\n",
    "\n",
    "for cube, line, band in zip(cubes, lines, bands):\n",
    "    axis, spectrum = cube.extract_spectrum(xrhii, yrhii, aperture, silent=True)\n",
    "    axis2, sky = cube.extract_spectrum(xsky, ysky, aperture, silent=True)\n",
    "    spectrum = spectrum - sky\n",
    "    line_idx = np.where(spectrum == max(spectrum))[0][0]\n",
    "\n",
    "    data_list.append({'cube': cube, 'line': line, 'band': band,\n",
    "                      'line_idx': line_idx, 'spectrum': spectrum, \n",
    "                      'sky': sky, 'axis': axis, 'wavenumber': axis[line_idx]})\n",
    "    "
   ]
  },
  {
   "cell_type": "markdown",
   "metadata": {},
   "source": [
    "## 5. Imaging Results\n",
    "Now that we have the data downloaded, we can analyze and display the data.\n",
    "\n",
    "### 5.1 Deep frame preview\n",
    "The [deep frame](http://celeste.phy.ulaval.ca/orcs-doc/examples/deep_wcs.html?highlight=deep%20frame) is the mean of the interferometric images along the scan axis.  "
   ]
  },
  {
   "cell_type": "code",
   "execution_count": null,
   "metadata": {},
   "outputs": [],
   "source": [
    "#TODO: Coloured image?\n",
    "#TODO: Show selection of xrii, yrii, etc?\n",
    "    \n",
    "fig, axes = plt.subplots(nrows=1, ncols=3, figsize=(12, 4), frameon=False)\n",
    "\n",
    "hii_circle = lambda : plt.Circle((xrhii, yrhii), aperture*10, ec='red', \n",
    "                                 fill=False, label='HII region ({}, {})'.format(xrhii, yrhii))\n",
    "sky_circle = lambda : plt.Circle((xsky, ysky), aperture*10, ec='blue', \n",
    "                                 fill=False, label='Sky region ({}, {})'.format(xsky, ysky))\n",
    "\n",
    "for ax, data in zip(axes, data_list):\n",
    "    deep_frame = data['cube'].get_deep_frame()\n",
    "    band = data['band']\n",
    "    \n",
    "    ax.imshow(deep_frame.T,\n",
    "               origin='bottom-left',\n",
    "               vmin=np.nanpercentile(deep_frame, 0.05),\n",
    "               vmax=np.nanpercentile(deep_frame, 99.5),\n",
    "               cmap='gray_r')\n",
    "\n",
    "    ax.add_artist(hii_circle())\n",
    "    ax.add_artist(sky_circle())\n",
    "    \n",
    "    ax.set_title(band)\n",
    "    ax.set_xlim((200, 1800))\n",
    "    ax.set_ylim((200, 1800))\n",
    "    ax.grid()\n",
    "    \n",
    "plt.legend(handles=[hii_circle(), sky_circle()])\n",
    "fig.suptitle('Deep Frame Preview');\n"
   ]
  },
  {
   "cell_type": "markdown",
   "metadata": {},
   "source": [
    "For energy filter is SN1, we want to look at [OII]3727 energy bands. For SN2, we will look at [OIII]5007, and for SN3, we will look at H$\\alpha$."
   ]
  },
  {
   "cell_type": "markdown",
   "metadata": {},
   "source": [
    "### 5.2 Extract spectrum\n",
    "\n",
    "Here we extract the spectrum of an [HII region](https://en.wikipedia.org/wiki/H_II_region) and the sky to find H$\\alpha$.\n",
    "\n",
    "TODO: What is the point of this??? Should I just plot the sepectrum and velocity of each?? Should I get the velocity of Halpha OII and OIII for each cube???"
   ]
  },
  {
   "cell_type": "code",
   "execution_count": null,
   "metadata": {},
   "outputs": [],
   "source": [
    "fig, axes = plt.subplots(nrows=1, ncols=3, figsize=(12, 4), frameon=False)\n",
    "\n",
    "for ax, data in zip(axes, data_list):\n",
    "    fit_axis, fit_spectrum, fit_res = data['cube'].fit_lines_in_spectrum(\n",
    "        xrhii, yrhii, aperture, [data['line']], subtract_spectrum=data['sky'], fmodel='sinc')\n",
    "\n",
    "    # TODO: Just plot sky vs spectrum instead????\n",
    "    # ax.plot(fit_axis, data['sky'], label='Sky')\n",
    "    # ax.plot(fit_axis, data['spectrum'], label='Spectrum')\n",
    "    ax.plot(fit_axis, fit_spectrum, label='Real spectrum')\n",
    "    ax.plot(fit_axis, fit_res['fitted_vector'], label='Fitted spectrum')\n",
    "    ax.legend()\n",
    "\n",
    "    ax.set_title('{} - Velocity: {} \\nFlux: {}'.format(\n",
    "        data['band'], fit_res['velocity_gvar'], fit_res['flux_gvar']))\n",
    "\n",
    "fig.suptitle('Spectrum', y=1.1);"
   ]
  },
  {
   "cell_type": "markdown",
   "metadata": {},
   "source": [
    "### 5.3 Characteristic lines [OII]3727, [OIII]5007, H$\\alpha$"
   ]
  },
  {
   "cell_type": "code",
   "execution_count": null,
   "metadata": {},
   "outputs": [],
   "source": [
    "fig, axes = plt.subplots(nrows=1, ncols=3, figsize=(12, 4), frameon=False)\n",
    "\n",
    "for ax, data in zip(axes, data_list):\n",
    "    cube = data['cube'] \n",
    "    image_data = cube.get_data_frame(data['line_idx'], silent=True)\n",
    "    image_data[np.where(np.isfinite(image_data) == False)] = 1e-20\n",
    "    image_data = np.arcsinh(image_data)\n",
    "\n",
    "    gamma = 1./3.5\n",
    "    ax.imshow(image_data, cmap='afmhot', norm=PowerNorm(gamma=gamma))\n",
    "    ax.set_title('{} - {} line {:0.0f} (cm-1)'.format(data['band'], data['line'], data['wavenumber'] ))\n",
    "    \n",
    "fig.suptitle('Strongest Line');"
   ]
  },
  {
   "cell_type": "markdown",
   "metadata": {},
   "source": [
    "### 5.4 Velocity of objects"
   ]
  },
  {
   "cell_type": "code",
   "execution_count": null,
   "metadata": {},
   "outputs": [],
   "source": [
    "# TODO: Use this information in a plot somehow\n",
    "from orb.utils.spectrum import compute_radial_velocity\n",
    "from orb.core import Lines\n",
    "\n",
    "for data in data_list:\n",
    "    vel = compute_radial_velocity(data['wavenumber'], Lines().get_line_cm1(data['line']), wavenumber=True)\n",
    "    print('{} velocity:{:0.2f} km/s'.format(data['line'], vel))\n",
    "\n"
   ]
  },
  {
   "cell_type": "markdown",
   "metadata": {},
   "source": [
    "## 6. Cube Widget"
   ]
  },
  {
   "cell_type": "code",
   "execution_count": null,
   "metadata": {},
   "outputs": [],
   "source": [
    "def get_image_list(cube, line_idx, num_frames=10):\n",
    "    \"\"\"Returns a list of images from the data cube that is num_frames in length, centered around line_idx\"\"\"\n",
    "    i_min, i_max = (line_idx - num_frames/2, line_idx + num_frames/2)\n",
    "    img_list = []\n",
    "    for i in range(i_min, i_max): \n",
    "        img = cube.get_data_frame(i, silent=True)\n",
    "        img[np.where(np.isfinite(img) == False)] = 1e-20\n",
    "        img = np.arcsinh(img)\n",
    "        img_list.append(img)\n",
    "    return img_list\n",
    "\n",
    "num_frames_list = [10, 10, 30]\n",
    "for data, frames in zip(data_list, num_frames_list):\n",
    "    data['img_list'] = get_image_list(data['cube'], data['line_idx'], num_frames=frames)"
   ]
  },
  {
   "cell_type": "code",
   "execution_count": null,
   "metadata": {},
   "outputs": [],
   "source": [
    "%matplotlib notebook\n",
    "import matplotlib.pyplot as plt\n",
    "from ipywidgets import Layout, interact, widgets\n",
    "\n",
    "def plot_widget(data, num_frames=10):\n",
    "    mi, ma= -1e-19, 8e-16\n",
    "    \n",
    "    img_list, spectrum, sky, axis, line_idx, band = (data['img_list'], data['spectrum'], \n",
    "            data['sky'], data['axis'], data['line_idx'], data['band'])\n",
    "        \n",
    "    i_min, i_max = (line_idx - num_frames / 2, line_idx + num_frames / 2)\n",
    "    \n",
    "    fig, (ax0, ax1) = plt.subplots(nrows=1,\n",
    "                                   ncols=2,\n",
    "                                   figsize=(10, 5),\n",
    "                                   gridspec_kw={'width_ratios': [1, 1.3]},\n",
    "                                   frameon=False)\n",
    "    ax1.plot(axis, spectrum, c='k', linewidth=1, label='Spectrum')\n",
    "    ax1.plot(axis,\n",
    "             5 * sky - 2.5e-15,\n",
    "             c='blue',\n",
    "             linewidth=1,\n",
    "             label='5 x Sky - Cte')\n",
    "\n",
    "    xlim = (axis[i_min - num_frames], axis[i_max + num_frames])\n",
    "    ax1.set_xlim(xlim)\n",
    "    ax1.set_xlabel('Wavenumber (cm-1)')\n",
    "    ax1.set_ylabel('Intensity (ers s$^{-1}$ $\\AA$$^{-1}$ cm$^{-2}$)')\n",
    "    x_line = Lines().get_line_cm1(data['line'])\n",
    "    ax1.axvline(x=x_line, c='black', linestyle='--', linewidth=1)\n",
    "    ax1.annotate(data['line'], (x_line+(xlim[1] - xlim[0])*0.02, -1.7e-15 ))\n",
    "    \n",
    "    ax1.legend(fontsize=12, loc=1)\n",
    "    ax0.axis('off')\n",
    "    \n",
    "    fig.suptitle(band)\n",
    "\n",
    "    def plot_image(wavenumber):\n",
    "        \"\"\"Function to update the image and wavenumber line on interaction with the slider\"\"\"\n",
    "        idx = np.where(axis == wavenumber)[0][0]\n",
    "        img = img_list[idx - i_min]\n",
    "        ax0.imshow(img,\n",
    "                   cmap='afmhot',\n",
    "                   norm=PowerNorm(gamma=gamma),\n",
    "                   clim=[mi, ma])\n",
    "        \n",
    "        if len(ax1.lines) > 3:\n",
    "            ax1.lines.remove(ax1.lines[-1])\n",
    "        ax1.axvline(x=axis[idx], color='r', linestyle='--', linewidth=1)\n",
    "        plt.show()\n",
    "\n",
    "    interact(plot_image,\n",
    "             wavenumber=widgets.SelectionSlider(options=[\n",
    "                 ('{:0.0f} (cm-1)'.format(wavenumber), wavenumber)\n",
    "                 for wavenumber in axis[i_min:i_max]\n",
    "             ],\n",
    "                 description='Wavenumber:',\n",
    "                 layout={'width': '700px'},\n",
    "               style={\n",
    "                    'description_width':\n",
    "                    'initial'}))\n",
    "    plt.show()\n",
    "\n",
    "\n",
    "plot_widget(data_list[0], num_frames=num_frames_list[0])"
   ]
  },
  {
   "cell_type": "code",
   "execution_count": null,
   "metadata": {},
   "outputs": [],
   "source": [
    "plot_widget(data_list[1], num_frames=num_frames_list[1])"
   ]
  },
  {
   "cell_type": "code",
   "execution_count": null,
   "metadata": {
    "scrolled": false
   },
   "outputs": [],
   "source": [
    "plot_widget(data_list[2], num_frames=num_frames_list[2])"
   ]
  },
  {
   "cell_type": "code",
   "execution_count": null,
   "metadata": {},
   "outputs": [],
   "source": []
  }
 ],
 "metadata": {
  "kernelspec": {
   "display_name": "Python 2",
   "language": "python",
   "name": "python2"
  },
  "language_info": {
   "codemirror_mode": {
    "name": "ipython",
    "version": 2
   },
   "file_extension": ".py",
   "mimetype": "text/x-python",
   "name": "python",
   "nbconvert_exporter": "python",
   "pygments_lexer": "ipython2",
   "version": "2.7.15"
  }
 },
 "nbformat": 4,
 "nbformat_minor": 2
}
