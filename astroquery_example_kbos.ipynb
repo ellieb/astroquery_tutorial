{
 "cells": [
  {
   "cell_type": "markdown",
   "metadata": {},
   "source": [
    "Notes from JJ:\n",
    "\n",
    "* btw you are querying an asteroid, not a KBO, which explains the weird movement! - cool!\n",
    "* Keep the aladin widget but dont query that way - TODO: Get clarification on how then\n",
    "* Get the results from SSOIS but then query CADC using the image and RA/DEC\n",
    "* Use the cadc astroquery `get_url` function then do cutout from RA/DEC\n",
    "* Have a plot that user can choose the date range\n",
    "* Display KBOs along same axes, linking the views so when one moves, another moves, e.g. \n",
    "\n",
    "date 1 | date 2 | date 3\n",
    "--- | --- | ---\n",
    "KBO | KBO | KBO\n",
    "\n",
    "* Have a circle around KBO - like quasar\n",
    "* Allow user to click KBO, create `photoutils` aperture with pixels from \n"
   ]
  },
  {
   "cell_type": "markdown",
   "metadata": {},
   "source": [
    "# Interactive KBO Notebook"
   ]
  },
  {
   "cell_type": "code",
   "execution_count": 1,
   "metadata": {},
   "outputs": [],
   "source": [
    "%matplotlib widget"
   ]
  },
  {
   "cell_type": "code",
   "execution_count": 2,
   "metadata": {},
   "outputs": [],
   "source": [
    "# ! conda activate tutorials\n",
    "# !jupyter nbextension enable --py widgetsnbextension\n",
    "# !jupyter nbextension enable --py --sys-prefix ipympl\n",
    "# !jupyter nbextension enable --py --sys-prefix ipyaladin"
   ]
  },
  {
   "cell_type": "code",
   "execution_count": 3,
   "metadata": {},
   "outputs": [],
   "source": [
    "import math\n",
    "import numpy as np\n",
    "import pandas as pd\n",
    "\n",
    "from ipyaladin import Aladin\n",
    "from ipywidgets import Layout, Output, Box, widgets\n",
    "\n",
    "from astropy.table import Table\n",
    "from astropy.time import Time, TimeDelta\n",
    "import astropy.units as u\n",
    "from astroquery.cadc import Cadc\n"
   ]
  },
  {
   "cell_type": "markdown",
   "metadata": {},
   "source": [
    "## SSOIS Query"
   ]
  },
  {
   "cell_type": "code",
   "execution_count": 105,
   "metadata": {
    "scrolled": true
   },
   "outputs": [
    {
     "data": {
      "text/html": [
       "<i>Table masked=True length=95</i>\n",
       "<table id=\"table139914247250384\" class=\"table-striped table-bordered table-condensed\">\n",
       "<thead><tr><th>Image</th><th>MJD</th><th>Filter</th><th>Exptime</th><th>Object_RA</th><th>Object_Dec</th><th>Image_target</th><th>Telescope/Instrument</th><th>MetaData</th><th>Datalink</th></tr></thead>\n",
       "<thead><tr><th>str7</th><th>float64</th><th>str8</th><th>int64</th><th>float64</th><th>float64</th><th>str6</th><th>str12</th><th>str73</th><th>float64</th></tr></thead>\n",
       "<tr><td>869870p</td><td>53992.3966645426</td><td>G.MP9401</td><td>30</td><td>16.8555741361326</td><td>6.32166055369719</td><td>Main12</td><td>CFHT/MegaCam</td><td>http://www.cadc-ccda.hia-iha.nrc-cnrc.gc.ca/data/pub/CFHT/869870p.fits.fz</td><td>--</td></tr>\n",
       "<tr><td>869882p</td><td>53992.408535630995</td><td>G.MP9401</td><td>30</td><td>16.8532608567053</td><td>6.32249891634057</td><td>Main12</td><td>CFHT/MegaCam</td><td>http://www.cadc-ccda.hia-iha.nrc-cnrc.gc.ca/data/pub/CFHT/869882p.fits.fz</td><td>--</td></tr>\n",
       "<tr><td>869894p</td><td>53992.419775212</td><td>G.MP9401</td><td>30</td><td>16.8510706370213</td><td>6.3232926805275795</td><td>Main12</td><td>CFHT/MegaCam</td><td>http://www.cadc-ccda.hia-iha.nrc-cnrc.gc.ca/data/pub/CFHT/869894p.fits.fz</td><td>--</td></tr>\n",
       "<tr><td>869906p</td><td>53992.431291730994</td><td>G.MP9401</td><td>30</td><td>16.8488264513521</td><td>6.3241060026916305</td><td>Main12</td><td>CFHT/MegaCam</td><td>http://www.cadc-ccda.hia-iha.nrc-cnrc.gc.ca/data/pub/CFHT/869906p.fits.fz</td><td>--</td></tr>\n",
       "<tr><td>869918p</td><td>53992.4427910773</td><td>G.MP9401</td><td>30</td><td>16.8465856120699</td><td>6.32491811208139</td><td>Main12</td><td>CFHT/MegaCam</td><td>http://www.cadc-ccda.hia-iha.nrc-cnrc.gc.ca/data/pub/CFHT/869918p.fits.fz</td><td>--</td></tr>\n",
       "<tr><td>869930p</td><td>53992.4546321005</td><td>G.MP9401</td><td>30</td><td>16.8442781913499</td><td>6.32575435145283</td><td>Main12</td><td>CFHT/MegaCam</td><td>http://www.cadc-ccda.hia-iha.nrc-cnrc.gc.ca/data/pub/CFHT/869930p.fits.fz</td><td>--</td></tr>\n",
       "<tr><td>869942p</td><td>53992.4659541947</td><td>G.MP9401</td><td>30</td><td>16.8420718925934</td><td>6.326553942905459</td><td>Main12</td><td>CFHT/MegaCam</td><td>http://www.cadc-ccda.hia-iha.nrc-cnrc.gc.ca/data/pub/CFHT/869942p.fits.fz</td><td>--</td></tr>\n",
       "<tr><td>869954p</td><td>53992.4779011889</td><td>G.MP9401</td><td>30</td><td>16.839743821657</td><td>6.3273976661847495</td><td>Main12</td><td>CFHT/MegaCam</td><td>http://www.cadc-ccda.hia-iha.nrc-cnrc.gc.ca/data/pub/CFHT/869954p.fits.fz</td><td>--</td></tr>\n",
       "<tr><td>869966p</td><td>53992.489347029405</td><td>G.MP9401</td><td>30</td><td>16.837513408871402</td><td>6.3282059968760995</td><td>Main12</td><td>CFHT/MegaCam</td><td>http://www.cadc-ccda.hia-iha.nrc-cnrc.gc.ca/data/pub/CFHT/869966p.fits.fz</td><td>--</td></tr>\n",
       "<tr><td>869978p</td><td>53992.5012329889</td><td>G.MP9401</td><td>30</td><td>16.835197231563097</td><td>6.32904540974939</td><td>Main12</td><td>CFHT/MegaCam</td><td>http://www.cadc-ccda.hia-iha.nrc-cnrc.gc.ca/data/pub/CFHT/869978p.fits.fz</td><td>--</td></tr>\n",
       "<tr><td>...</td><td>...</td><td>...</td><td>...</td><td>...</td><td>...</td><td>...</td><td>...</td><td>...</td><td>...</td></tr>\n",
       "<tr><td>871915p</td><td>54000.5622173294</td><td>G.MP9401</td><td>30</td><td>15.050906141594998</td><td>6.84842668272921</td><td>Main5</td><td>CFHT/MegaCam</td><td>http://www.cadc-ccda.hia-iha.nrc-cnrc.gc.ca/data/pub/CFHT/871915p.fits.fz</td><td>--</td></tr>\n",
       "<tr><td>871927p</td><td>54000.573647684694</td><td>G.MP9401</td><td>30</td><td>15.0481094194124</td><td>6.84909577127698</td><td>Main5</td><td>CFHT/MegaCam</td><td>http://www.cadc-ccda.hia-iha.nrc-cnrc.gc.ca/data/pub/CFHT/871927p.fits.fz</td><td>--</td></tr>\n",
       "<tr><td>871939p</td><td>54000.585288717804</td><td>G.MP9401</td><td>30</td><td>15.0452611496397</td><td>6.84977719208372</td><td>Main5</td><td>CFHT/MegaCam</td><td>http://www.cadc-ccda.hia-iha.nrc-cnrc.gc.ca/data/pub/CFHT/871939p.fits.fz</td><td>--</td></tr>\n",
       "<tr><td>872365p</td><td>54006.4584915336</td><td>G.MP9401</td><td>30</td><td>13.5307036708251</td><td>7.16973221364454</td><td>Main4</td><td>CFHT/MegaCam</td><td>http://www.cadc-ccda.hia-iha.nrc-cnrc.gc.ca/data/pub/CFHT/872365p.fits.fz</td><td>--</td></tr>\n",
       "<tr><td>872375p</td><td>54006.4801706393</td><td>G.MP9401</td><td>30</td><td>13.524878314465498</td><td>7.17083176584147</td><td>Main4</td><td>CFHT/MegaCam</td><td>http://www.cadc-ccda.hia-iha.nrc-cnrc.gc.ca/data/pub/CFHT/872375p.fits.fz</td><td>--</td></tr>\n",
       "<tr><td>872387p</td><td>54006.4915640063</td><td>G.MP9401</td><td>30</td><td>13.5218168218079</td><td>7.1714096310860596</td><td>Main4</td><td>CFHT/MegaCam</td><td>http://www.cadc-ccda.hia-iha.nrc-cnrc.gc.ca/data/pub/CFHT/872387p.fits.fz</td><td>--</td></tr>\n",
       "<tr><td>872399p</td><td>54006.503162042594</td><td>G.MP9401</td><td>30</td><td>13.518700332802599</td><td>7.171997877044059</td><td>Main4</td><td>CFHT/MegaCam</td><td>http://www.cadc-ccda.hia-iha.nrc-cnrc.gc.ca/data/pub/CFHT/872399p.fits.fz</td><td>--</td></tr>\n",
       "<tr><td>872415p</td><td>54006.5186122137</td><td>G.MP9401</td><td>30</td><td>13.514548743076501</td><td>7.172781501138849</td><td>Main4</td><td>CFHT/MegaCam</td><td>http://www.cadc-ccda.hia-iha.nrc-cnrc.gc.ca/data/pub/CFHT/872415p.fits.fz</td><td>--</td></tr>\n",
       "<tr><td>872427p</td><td>54006.530078113705</td><td>G.MP9401</td><td>30</td><td>13.5114677601985</td><td>7.1733630452166794</td><td>Main4</td><td>CFHT/MegaCam</td><td>http://www.cadc-ccda.hia-iha.nrc-cnrc.gc.ca/data/pub/CFHT/872427p.fits.fz</td><td>--</td></tr>\n",
       "<tr><td>872439p</td><td>54006.5416121005</td><td>G.MP9401</td><td>30</td><td>13.5083684818291</td><td>7.17394804261934</td><td>Main4</td><td>CFHT/MegaCam</td><td>http://www.cadc-ccda.hia-iha.nrc-cnrc.gc.ca/data/pub/CFHT/872439p.fits.fz</td><td>--</td></tr>\n",
       "</table>"
      ],
      "text/plain": [
       "<Table masked=True length=95>\n",
       " Image         MJD         ... Datalink\n",
       "  str7       float64       ... float64 \n",
       "------- ------------------ ... --------\n",
       "869870p   53992.3966645426 ...       --\n",
       "869882p 53992.408535630995 ...       --\n",
       "869894p    53992.419775212 ...       --\n",
       "869906p 53992.431291730994 ...       --\n",
       "869918p   53992.4427910773 ...       --\n",
       "869930p   53992.4546321005 ...       --\n",
       "869942p   53992.4659541947 ...       --\n",
       "869954p   53992.4779011889 ...       --\n",
       "869966p 53992.489347029405 ...       --\n",
       "869978p   53992.5012329889 ...       --\n",
       "    ...                ... ...      ...\n",
       "871915p   54000.5622173294 ...       --\n",
       "871927p 54000.573647684694 ...       --\n",
       "871939p 54000.585288717804 ...       --\n",
       "872365p   54006.4584915336 ...       --\n",
       "872375p   54006.4801706393 ...       --\n",
       "872387p   54006.4915640063 ...       --\n",
       "872399p 54006.503162042594 ...       --\n",
       "872415p   54006.5186122137 ...       --\n",
       "872427p 54006.530078113705 ...       --\n",
       "872439p   54006.5416121005 ...       --"
      ]
     },
     "execution_count": 105,
     "metadata": {},
     "output_type": "execute_result"
    }
   ],
   "source": [
    "# SSOIS query\n",
    "# Search by object name\n",
    "# Date Range Entered: 2006-09-01 to 2006-09-30\n",
    "objects = ['Yasutani', '2006+RJ43', '45302', '6641+P-L']\n",
    "# url = ('https://www.cadc-ccda.hia-iha.nrc-cnrc.gc.ca/cadcbin/ssos/ssosclf.pl?lang=en&object={}'\n",
    "#        '&search=bynameCADC&epoch1=2006+09+01&epoch2=2006+09+30&eellipse=&eunits=arcseconds'\n",
    "#        '&extres=yes&xyres=yes;format=tsv').format(objects[3])\n",
    "kbo_name = objects[3]\n",
    "url = ('https://www.cadc-ccda.hia-iha.nrc-cnrc.gc.ca/cadcbin/ssos/ssosclf.pl?lang=en&object={}'\n",
    "       '&search=bynameCADC&epoch1=2006+09+01&epoch2=2006+09+30&eellipse=&eunits=arcseconds'\n",
    "       '&extres=no&xyres=no;format=tsv').format(kbo_name)\n",
    "data_table = pd.read_csv(url, sep='\\t')\n",
    "\n",
    "# filter table with negative extension values\n",
    "# data_table = data_table[data_table['Ext'] > 0]\n",
    "\n",
    "data_table.head()\n",
    "table = Table.from_pandas(data_table)\n",
    "\n",
    "table"
   ]
  },
  {
   "cell_type": "code",
   "execution_count": 5,
   "metadata": {},
   "outputs": [
    {
     "data": {
      "application/vnd.jupyter.widget-view+json": {
       "model_id": "45af2ac795e54f36b6b2272cf8f25395",
       "version_major": 2,
       "version_minor": 0
      },
      "text/plain": [
       "Aladin(fov=20.0, layout=Layout(height='400px', width='100%'), options=['allow_full_zoomout', 'coo_frame', 'fov…"
      ]
     },
     "metadata": {},
     "output_type": "display_data"
    }
   ],
   "source": [
    "aladin = Aladin(layout=Layout(width='100%', height='400px'), fov=20)\n",
    "aladin"
   ]
  },
  {
   "cell_type": "code",
   "execution_count": 6,
   "metadata": {},
   "outputs": [],
   "source": [
    "aladin.add_table(table)"
   ]
  },
  {
   "cell_type": "markdown",
   "metadata": {},
   "source": [
    "## CADC Query"
   ]
  },
  {
   "cell_type": "code",
   "execution_count": 7,
   "metadata": {
    "scrolled": true
   },
   "outputs": [
    {
     "data": {
      "text/html": [
       "<i>Table masked=True length=95</i>\n",
       "<table id=\"table139914240192864\" class=\"table-striped table-bordered table-condensed\">\n",
       "<thead><tr><th>calibrationLevel</th><th>position_bounds</th><th>position_bounds_size</th><th>position_sampleSize</th><th>position_dimension_naxis1</th><th>position_dimension_naxis2</th><th>obsID</th><th>planeID</th><th>productID</th><th>dataProductType</th><th>quality_flag</th><th>position_bounds_points</th><th>proposal_keywords</th><th>collection</th><th>type</th><th>target_name</th><th>telescope_name</th><th>time_bounds_lower</th></tr></thead>\n",
       "<thead><tr><th></th><th>deg</th><th>deg</th><th>arcsec</th><th></th><th></th><th></th><th></th><th></th><th></th><th></th><th>deg</th><th></th><th></th><th></th><th></th><th></th><th>d</th></tr></thead>\n",
       "<thead><tr><th>int32</th><th>object</th><th>float64</th><th>float64</th><th>int64</th><th>int64</th><th>bytes36</th><th>bytes36</th><th>bytes64</th><th>bytes128</th><th>bytes16</th><th>object</th><th>object</th><th>bytes32</th><th>bytes32</th><th>bytes32</th><th>bytes32</th><th>float64</th></tr></thead>\n",
       "<tr><td>2</td><td>[17.089044308686464 6.179624184699989 16.102294508268866 6.175765189727662\n",
       " 16.097523694475832 7.1662126451615995 16.207496294384118\n",
       " 7.1726066347764235 17.088469488471336 7.17754910258159]</td><td>1.4010581571637863</td><td>0.186124380919742</td><td>18960</td><td>19288</td><td>00000000-0000-0000-d4a7-013ed27e3900</td><td>00000000-0000-0000-16dd-013ed281f9e0</td><td>869870p</td><td>image</td><td></td><td>[17.089044308686457 6.179624184699989 16.102294508268844 6.175765189727656\n",
       " 16.097523694475836 7.166212645161593 16.207496294384143 7.172606634776415\n",
       " 17.088469488471343 7.177549102581608]</td><td></td><td>CFHT</td><td>OBJECT</td><td>Main12</td><td>CFHT 3.6m</td><td>53992.3964907</td></tr>\n",
       "<tr><td>2</td><td>[17.08680792324209 7.169327594766717 17.088182765663575 6.178778578955335\n",
       " 16.103033843988143 6.175641983503534 16.097523694475832\n",
       " 7.1662126451615995 16.97658373792005 7.174342410670307]</td><td>1.3939799245011717</td><td>0.18603218540449784</td><td>18944</td><td>19226</td><td>00000000-0000-0000-fdaf-013ed27e3e62</td><td>00000000-0000-0000-af94-013ed2827ded</td><td>869882p</td><td>image</td><td></td><td>[17.086807923242077 7.169327594766699 17.088182765663568 6.178778578955345\n",
       " 16.10303384398813 6.175641983503539 16.09752369447582 7.166212645161593\n",
       " 16.976583737920052 7.174342410670292]</td><td></td><td>CFHT</td><td>OBJECT</td><td>Main12</td><td>CFHT 3.6m</td><td>53992.4083618</td></tr>\n",
       "<tr><td>2</td><td>[17.086670749275502 6.1788494744227425 16.10192410471798 6.168266882869949\n",
       " 16.097523694475832 7.1662126451615995 17.084542070816205\n",
       " 7.173698078762894]</td><td>1.4012132393008745</td><td>0.18603657249693065</td><td>18915</td><td>19358</td><td>00000000-0000-0000-9729-013ed27eea40</td><td>00000000-0000-0000-7761-013ed28294dd</td><td>869894p</td><td>image</td><td></td><td>[17.086670749275477 6.178849474422719 16.10192410471799 6.168266882869958\n",
       " 16.097523694475836 7.166212645161593 17.084542070816227 7.173698078762911]</td><td></td><td>CFHT</td><td>OBJECT</td><td>Main12</td><td>CFHT 3.6m</td><td>53992.4196013</td></tr>\n",
       "<tr><td>2</td><td>[17.08644182490072 6.178730356804927 16.10192410471798 6.168266882869949\n",
       " 16.097069533628247 7.169911415565479 17.084946054769546 7.173407989537367]</td><td>1.4012848509702989</td><td>0.18600928684540355</td><td>18919</td><td>19353</td><td>00000000-0000-0000-6ac3-013ed27ff52e</td><td>00000000-0000-0000-28e2-013ed282e247</td><td>869906p</td><td>image</td><td></td><td>[17.086441824900714 6.178730356804934 16.101924104717966 6.168266882869958\n",
       " 16.097069533628243 7.169911415565494 17.084946054769542 7.173407989537381]</td><td></td><td>CFHT</td><td>OBJECT</td><td>Main12</td><td>CFHT 3.6m</td><td>53992.4311179</td></tr>\n",
       "<tr><td>2</td><td>[17.09023544093668 6.1716700786633565 16.101375217012983 6.175583331346593\n",
       " 16.096894126818416 7.170282922285291 17.08710654735683 7.176290862980157]</td><td>1.4037939181544752</td><td>0.18606638378128082</td><td>18995</td><td>19342</td><td>00000000-0000-0000-179f-013ed2828efe</td><td>00000000-0000-0000-84cb-013ed285d2a1</td><td>869918p</td><td>image</td><td></td><td>[17.090235440936684 6.171670078663368 16.101375217012972 6.175583331346601\n",
       " 16.096894126818402 7.17028292228531 17.087106547356836 7.176290862980167]</td><td></td><td>CFHT</td><td>OBJECT</td><td>Main12</td><td>CFHT 3.6m</td><td>53992.4426172</td></tr>\n",
       "<tr><td>2</td><td>[17.086186307313085 6.177582784339037 16.980911410111567 6.170591584795881\n",
       " 16.101391112741805 6.174954721637882 16.096569905653407 7.169101927727475\n",
       " 17.086637227332847 7.175617083440133]</td><td>1.3996131808634202</td><td>0.18597880826348204</td><td>18923</td><td>19353</td><td>00000000-0000-0000-3d38-013ed2836b5d</td><td>00000000-0000-0000-40bf-013efe50b43d</td><td>869930p</td><td>image</td><td></td><td>[17.08618630731311 6.177582784339009 16.98091141011156 6.170591584795872\n",
       " 16.101391112741812 6.174954721637903 16.096569905653382 7.169101927727482\n",
       " 17.08663722733285 7.1756170834401445]</td><td></td><td>CFHT</td><td>OBJECT</td><td>Main12</td><td>CFHT 3.6m</td><td>53992.4544582</td></tr>\n",
       "<tr><td>2</td><td>[17.08564893322855 6.178501927180807 16.10192410471798 6.168266882869949\n",
       " 16.096160815956672 7.17028370997764 17.083661316252822 7.173467413024072]</td><td>1.400438660041335</td><td>0.186125836699184</td><td>18921</td><td>19353</td><td>00000000-0000-0000-29f7-013ed28525d7</td><td>00000000-0000-0000-0ef0-013ed288a5b1</td><td>869942p</td><td>image</td><td></td><td>[17.08564893322858 6.178501927180804 16.101924104717988 6.168266882869943\n",
       " 16.096160815956672 7.170283709977625 17.083661316252826 7.173467413024042]</td><td></td><td>CFHT</td><td>OBJECT</td><td>Main12</td><td>CFHT 3.6m</td><td>53992.4657803</td></tr>\n",
       "<tr><td>2</td><td>[17.09023544093668 6.1716700786633565 16.10094534343094 6.1752714652674126\n",
       " 16.097523694475832 7.1662126451615995 17.086317562666213\n",
       " 7.175913510822078]</td><td>1.4004639479601682</td><td>0.18612040725748583</td><td>18984</td><td>19335</td><td>00000000-0000-0000-8fcc-013ed285cbc6</td><td>00000000-0000-0000-8205-013efe542ca1</td><td>869954p</td><td>image</td><td></td><td>[17.0902354409367 6.171670078663368 16.10094534343096 6.175271465267414\n",
       " 16.09752369447586 7.1662126451616075 17.08631756266619 7.175913510822085]</td><td></td><td>CFHT</td><td>OBJECT</td><td>Main12</td><td>CFHT 3.6m</td><td>53992.4777273</td></tr>\n",
       "<tr><td>2</td><td>[17.085666525958555 6.177948267488175 16.98091141011151 6.170591584795825\n",
       " 16.100265111936597 6.174945592495699 16.095962528919543 7.169781827149171\n",
       " 17.08607737654413 7.175761511323933]</td><td>1.400116054923255</td><td>0.1860150951714839</td><td>18925</td><td>19355</td><td>00000000-0000-0000-1505-013ed28686ae</td><td>00000000-0000-0000-a2e7-013efe56aec5</td><td>869966p</td><td>image</td><td></td><td>[17.085666525958576 6.177948267488162 16.980911410111524 6.170591584795844\n",
       " 16.100265111936608 6.174945592495675 16.095962528919543 7.16978182714918\n",
       " 17.086077376544146 7.175761511323913]</td><td></td><td>CFHT</td><td>OBJECT</td><td>Main12</td><td>CFHT 3.6m</td><td>53992.4891731</td></tr>\n",
       "<tr><td>...</td><td>...</td><td>...</td><td>...</td><td>...</td><td>...</td><td>...</td><td>...</td><td>...</td><td>...</td><td>...</td><td>...</td><td>...</td><td>...</td><td>...</td><td>...</td><td>...</td><td>...</td></tr>\n",
       "<tr><td>2</td><td>[15.577986708221822 6.5559356599362575 14.697567034092797\n",
       " 6.552040023966122 14.590600997378825 6.561020192843707 14.584601405584705\n",
       " 7.557647227981689 15.576016956509488 7.559752566473496]</td><td>1.4054696689556716</td><td>0.18625681690107068</td><td>18900</td><td>19388</td><td>00000000-0000-0000-15bf-013ed3132259</td><td>00000000-0000-0000-53a6-013ed3176af4</td><td>871915p</td><td>image</td><td></td><td>[15.577986708221802 6.555935659936253 14.697567034092772 6.552040023966143\n",
       " 14.590600997378845 6.561020192843699 14.584601405584712 7.55764722798169\n",
       " 15.576016956509504 7.559752566473506]</td><td></td><td>CFHT</td><td>OBJECT</td><td>Main5</td><td>CFHT 3.6m</td><td>54000.5620434</td></tr>\n",
       "<tr><td>2</td><td>[15.577986708221822 6.5559356599362575 14.588936028810755\n",
       " 6.552532695671027 14.584473433047695 7.550478201420483 14.694673178154082\n",
       " 7.557176766496866 15.573828498474919 7.559081829240358]</td><td>1.4030382803373478</td><td>0.18627115741466044</td><td>18984</td><td>19380</td><td>00000000-0000-0000-30c9-013ed3135eda</td><td>00000000-0000-0000-0838-013ed3164f46</td><td>871927p</td><td>image</td><td></td><td>[15.577986708221825 6.555935659936253 14.588936028810732 6.552532695671047\n",
       " 14.584473433047688 7.550478201420489 14.694673178154096 7.557176766496866\n",
       " 15.573828498474898 7.55908182924037]</td><td></td><td>CFHT</td><td>OBJECT</td><td>Main5</td><td>CFHT 3.6m</td><td>54000.5734739</td></tr>\n",
       "<tr><td>2</td><td>[15.577986708221822 6.5559356599362575 14.588936028810698\n",
       " 6.552532695671027 14.584452834594787 7.554201927292247 15.573527657363819\n",
       " 7.558002293810898]</td><td>1.403122389894916</td><td>0.18622803885152736</td><td>18983</td><td>19359</td><td>00000000-0000-0000-2898-013ed3146611</td><td>00000000-0000-0000-b259-013ed3189f6e</td><td>871939p</td><td>image</td><td></td><td>[15.577986708221813 6.555935659936253 14.588936028810714 6.552532695671047\n",
       " 14.584452834594767 7.554201927292226 15.57352765736384 7.558002293810887]</td><td></td><td>CFHT</td><td>OBJECT</td><td>Main5</td><td>CFHT 3.6m</td><td>54000.5851148</td></tr>\n",
       "<tr><td>2</td><td>[14.233447388222547 7.002888860915344 13.243479294106162\n",
       " 6.9994861664142265 13.238943861821879 7.9974313689521255\n",
       " 13.346223015554248 8.005899750497735 14.230125423746001 8.007754030273142]</td><td>1.4048031038477318</td><td>0.18659782829719881</td><td>19013</td><td>19386</td><td>00000000-0000-0000-681b-013ed32d4f25</td><td>00000000-0000-0000-e785-013ed3304bdd</td><td>872365p</td><td>image</td><td></td><td>[14.233447388222531 7.00288886091532 13.243479294106164 6.999486166414215\n",
       " 13.238943861821902 7.997431368952107 13.346223015554257 8.005899750497719\n",
       " 14.230125423746 8.007754030273162]</td><td></td><td>CFHT</td><td>OBJECT</td><td>Main4</td><td>CFHT 3.6m</td><td>54006.4583175</td></tr>\n",
       "<tr><td>2</td><td>[14.229812618151369 7.009667989366827 13.243479294106105\n",
       " 6.9994861664142265 13.239322245592934 8.001359183193575\n",
       " 14.228259515475411 8.004725786025094]</td><td>1.4013440889829032</td><td>0.18610982819434416</td><td>18906</td><td>19354</td><td>00000000-0000-0000-38a2-013ed32e3df5</td><td>00000000-0000-0000-76a8-013ed332592f</td><td>872375p</td><td>image</td><td></td><td>[14.229812618151358 7.009667989366804 13.243479294106132 6.999486166414215\n",
       " 13.239322245592929 8.001359183193571 14.228259515475399 8.004725786025077]</td><td></td><td>CFHT</td><td>OBJECT</td><td>Main4</td><td>CFHT 3.6m</td><td>54006.4799966</td></tr>\n",
       "<tr><td>2</td><td>[14.229752455211006 7.009810826291444 14.12393994078619 7.001822608542691\n",
       " 13.243479294106162 6.9994861664142265 13.239263860204167\n",
       " 8.001976626916854 14.228488784371317 8.004959479452701]</td><td>1.401669913046431</td><td>0.1862057618957357</td><td>18906</td><td>19358</td><td>00000000-0000-0000-81da-013ed32e41d4</td><td>00000000-0000-0000-ade3-013ed330b241</td><td>872387p</td><td>image</td><td></td><td>[14.229752455210978 7.009810826291471 14.12393994078619 7.001822608542668\n",
       " 13.243479294106153 6.999486166414215 13.239263860204195 8.001976626916857\n",
       " 14.228488784371326 8.00495947945268]</td><td></td><td>CFHT</td><td>OBJECT</td><td>Main4</td><td>CFHT 3.6m</td><td>54006.4913901</td></tr>\n",
       "<tr><td>2</td><td>[14.233447388222489 7.002888860915344 13.352211060962563 6.998999981973137\n",
       " 13.241226805173655 7.00885730408015 13.238943861821937 7.9974313689521255\n",
       " 13.347822660709287 8.003590382439763 14.228443823150672 8.005259487241375]</td><td>1.4004639512276547</td><td>0.18620195476464937</td><td>18984</td><td>19376</td><td>00000000-0000-0000-6d7d-013ed330ac31</td><td>00000000-0000-0000-f32f-013ed333ceaa</td><td>872399p</td><td>image</td><td></td><td>[14.2334473882225 7.00288886091532 13.352211060962574 6.998999981973128\n",
       " 13.24122680517363 7.008857304080152 13.23894386182191 7.997431368952107\n",
       " 13.347822660709289 8.00359038243974 14.228443823150693 8.005259487241375]</td><td></td><td>CFHT</td><td>OBJECT</td><td>Main4</td><td>CFHT 3.6m</td><td>54006.5029882</td></tr>\n",
       "<tr><td>2</td><td>[14.230140752222546 8.0005467989411 14.233447388222547 7.002888860915344\n",
       " 13.243479294106105 6.9994861664142265 13.238943861821879\n",
       " 7.9974313689521255 13.348028585608722 8.00414025560169 14.119362916212651\n",
       " 8.006440743644742]</td><td>1.400463951624545</td><td>0.18640231034630358</td><td>18984</td><td>19385</td><td>00000000-0000-0000-67dd-013ed3301028</td><td>00000000-0000-0000-9f09-013eff47ecb3</td><td>872415p</td><td>image</td><td></td><td>[14.230140752222548 8.000546798941102 14.233447388222523 7.00288886091532\n",
       " 13.243479294106121 6.999486166414215 13.238943861821904 7.997431368952107\n",
       " 13.348028585608745 8.004140255601683 14.119362916212625 8.006440743644731]</td><td></td><td>CFHT</td><td>OBJECT</td><td>Main4</td><td>CFHT 3.6m</td><td>54006.5184384</td></tr>\n",
       "<tr><td>2</td><td>[14.230469505188351 7.010283596607279 14.123939940786133 7.001822608542691\n",
       " 13.243479294106105 6.9994861664142265 13.239874127075295\n",
       " 8.002263730736622 14.228720891893115 8.005215762471614]</td><td>1.4020138845861612</td><td>0.1862180956897397</td><td>18908</td><td>19363</td><td>00000000-0000-0000-2ca8-013ed331726b</td><td>00000000-0000-0000-f366-013ed3352c16</td><td>872427p</td><td>image</td><td></td><td>[14.230469505188374 7.0102835966072945 14.123939940786158\n",
       " 7.001822608542682 13.24347929410613 6.999486166414215 13.239874127075282\n",
       " 8.002263730736644 14.22872089189311 8.005215762471593]</td><td></td><td>CFHT</td><td>OBJECT</td><td>Main4</td><td>CFHT 3.6m</td><td>54006.5299043</td></tr>\n",
       "<tr><td>2</td><td>[14.23023713072374 7.01028468208304 14.123939940786133 7.001822608542691\n",
       " 13.352211060962563 6.998999981973137 13.243843635173427 7.00778086120477\n",
       " 13.238943861821879 7.997431368952068 13.348065063668908 8.0037784292883\n",
       " 14.230140752222603 8.0005467989411]</td><td>1.3934750615793237</td><td>0.18627783109283197</td><td>18921</td><td>19345</td><td>00000000-0000-0000-1528-013ed3324e8c</td><td>00000000-0000-0000-c6ae-013ed3365997</td><td>872439p</td><td>image</td><td></td><td>[14.230237130723717 7.010284682083068 14.123939940786164 7.001822608542668\n",
       " 13.35221106096258 6.998999981973128 13.24384363517343 7.0077808612047505\n",
       " 13.238943861821873 7.997431368952078 13.34806506366893 8.003778429288303\n",
       " 14.230140752222594 8.000546798941073]</td><td></td><td>CFHT</td><td>OBJECT</td><td>Main4</td><td>CFHT 3.6m</td><td>54006.5414382</td></tr>\n",
       "</table>"
      ],
      "text/plain": [
       "<Table masked=True length=95>\n",
       "calibrationLevel ... time_bounds_lower\n",
       "                 ...         d        \n",
       "     int32       ...      float64     \n",
       "---------------- ... -----------------\n",
       "               2 ...     53992.3964907\n",
       "               2 ...     53992.4083618\n",
       "               2 ...     53992.4196013\n",
       "               2 ...     53992.4311179\n",
       "               2 ...     53992.4426172\n",
       "               2 ...     53992.4544582\n",
       "               2 ...     53992.4657803\n",
       "               2 ...     53992.4777273\n",
       "               2 ...     53992.4891731\n",
       "             ... ...               ...\n",
       "               2 ...     54000.5620434\n",
       "               2 ...     54000.5734739\n",
       "               2 ...     54000.5851148\n",
       "               2 ...     54006.4583175\n",
       "               2 ...     54006.4799966\n",
       "               2 ...     54006.4913901\n",
       "               2 ...     54006.5029882\n",
       "               2 ...     54006.5184384\n",
       "               2 ...     54006.5299043\n",
       "               2 ...     54006.5414382"
      ]
     },
     "execution_count": 7,
     "metadata": {},
     "output_type": "execute_result"
    }
   ],
   "source": [
    "# ra_list, dec_list, mjd_list = table_selection['Object_RA'], table_selection['Object_Dec'], table_selection['MJD']\n",
    "# ext_list = table_selection['Ext']\n",
    "# TODO: Adjust to search more than just productID (only valid for megaprime i think?)\n",
    "productId_list = \"', '\".join(table['Image'])\n",
    "\n",
    "query = '''SELECT *\n",
    "FROM caom2.Plane AS Plane \n",
    "JOIN caom2.Observation AS Observation ON Plane.obsID = Observation.obsID \n",
    "WHERE ( Plane.productID IN ('{}') )\n",
    "ORDER BY time_bounds_lower ASC'''.format(productId_list)\n",
    "cadc = Cadc()\n",
    "job = cadc.run_query(query, 'sync')\n",
    "results = job.get_results()\n",
    "\n",
    "cols = [\n",
    " 'calibrationLevel',\n",
    " 'position_bounds',\n",
    " 'position_bounds_size',\n",
    " 'position_sampleSize',\n",
    " 'position_dimension_naxis1',\n",
    " 'position_dimension_naxis2',\n",
    " 'obsID',\n",
    " 'planeID',\n",
    " 'productID',\n",
    " 'dataProductType',\n",
    " 'quality_flag',\n",
    " 'position_bounds_points',\n",
    " 'proposal_keywords',\n",
    " 'collection',\n",
    " 'type',\n",
    " 'target_name',\n",
    " 'telescope_name',\n",
    " 'time_bounds_lower']\n",
    "\n",
    "results[cols]"
   ]
  },
  {
   "cell_type": "markdown",
   "metadata": {},
   "source": [
    "We are interested in data from both the SSOIS table (i.e. the Object_RA and Object_Dec) and the CADC table (i.e. the time_bounds_lower and the ability to use the `get_data_urls` function). To keep all the data together, we can merge the two tables, since the SSOIS `Image` column and the CADC `productID` column map to each other."
   ]
  },
  {
   "cell_type": "code",
   "execution_count": 8,
   "metadata": {},
   "outputs": [
    {
     "data": {
      "text/html": [
       "&lt;MaskedColumn name=&apos;url&apos; dtype=&apos;str97&apos; length=5&gt;\n",
       "<table>\n",
       "<tr><td>https://www.cadc-ccda.hia-iha.nrc-cnrc.gc.ca/data/pub/CFHT/869870p.fits.fz?RUNID=s9aipcteda96oo7d</td></tr>\n",
       "<tr><td>https://www.cadc-ccda.hia-iha.nrc-cnrc.gc.ca/data/pub/CFHT/869882p.fits.fz?RUNID=zj55bpvaxkiihub6</td></tr>\n",
       "<tr><td>https://www.cadc-ccda.hia-iha.nrc-cnrc.gc.ca/data/pub/CFHT/869894p.fits.fz?RUNID=k07w0u9kkdr8o8ia</td></tr>\n",
       "<tr><td>https://www.cadc-ccda.hia-iha.nrc-cnrc.gc.ca/data/pub/CFHT/869906p.fits.fz?RUNID=pjsbl2ol2b8itc30</td></tr>\n",
       "<tr><td>https://www.cadc-ccda.hia-iha.nrc-cnrc.gc.ca/data/pub/CFHT/869918p.fits.fz?RUNID=byqwe6ccbdlk35yc</td></tr>\n",
       "</table>"
      ],
      "text/plain": [
       "<MaskedColumn name='url' dtype='str97' length=5>\n",
       "https://www.cadc-ccda.hia-iha.nrc-cnrc.gc.ca/data/pub/CFHT/869870p.fits.fz?RUNID=s9aipcteda96oo7d\n",
       "https://www.cadc-ccda.hia-iha.nrc-cnrc.gc.ca/data/pub/CFHT/869882p.fits.fz?RUNID=zj55bpvaxkiihub6\n",
       "https://www.cadc-ccda.hia-iha.nrc-cnrc.gc.ca/data/pub/CFHT/869894p.fits.fz?RUNID=k07w0u9kkdr8o8ia\n",
       "https://www.cadc-ccda.hia-iha.nrc-cnrc.gc.ca/data/pub/CFHT/869906p.fits.fz?RUNID=pjsbl2ol2b8itc30\n",
       "https://www.cadc-ccda.hia-iha.nrc-cnrc.gc.ca/data/pub/CFHT/869918p.fits.fz?RUNID=byqwe6ccbdlk35yc"
      ]
     },
     "execution_count": 8,
     "metadata": {},
     "output_type": "execute_result"
    }
   ],
   "source": [
    "from astropy.table import Table, join\n",
    "\n",
    "table.rename_column('Image', 'productID')\n",
    "joined_table = join(table, results, keys='productID')\n",
    "joined_table['url'] = cadc.get_data_urls(joined_table)\n",
    "\n",
    "joined_table['url'][0:5]"
   ]
  },
  {
   "cell_type": "code",
   "execution_count": 9,
   "metadata": {},
   "outputs": [],
   "source": [
    "from astropy.coordinates import SkyCoord\n",
    "\n",
    "def get_selection(table, date_range):\n",
    "    return table[(results['time_bounds_lower'] > date_range[0]) & \n",
    "                        (results['time_bounds_lower'] < date_range[1])]\n",
    "\n",
    "def get_cutout_params(table):\n",
    "    ra_max, ra_min = table['Object_RA'].max(), table['Object_RA'].min()\n",
    "    dec_max, dec_min = table['Object_Dec'].max(), table['Object_Dec'].min()\n",
    "\n",
    "    ra_centre = (ra_max + ra_min)/2 \n",
    "    dec_centre = (dec_max + dec_min)/2\n",
    "\n",
    "    ra_radius =  abs(ra_max - ra_min)/2 \n",
    "    dec_radius =  abs(dec_max - dec_min)/2\n",
    "\n",
    "    radius = round(max(ra_radius, dec_radius), 2)\n",
    "    \n",
    "    return ra_centre, dec_centre, radius\n"
   ]
  },
  {
   "cell_type": "code",
   "execution_count": 10,
   "metadata": {},
   "outputs": [],
   "source": [
    "import re\n",
    "from astropy.wcs import WCS\n",
    "from astropy.io import fits\n",
    "import urllib\n",
    "\n",
    "def get_cutout_urls(url, ra, dec, radius=0.02, verbose=False):\n",
    "    uri = 'ad:' + \\\n",
    "        re.findall(\n",
    "            \"https://www.cadc-ccda.hia-iha.nrc-cnrc.gc.ca/data/pub/(.+)\\?RUNID=\", url)[0]\n",
    "\n",
    "    cutout_region_string = 'Circle ICRS {ra} {dec} {radius}'.format(\n",
    "        ra=ra, dec=dec, radius=radius)\n",
    "    params_dict = {'uri': uri, 'cutout': cutout_region_string}\n",
    "\n",
    "    base_url = 'https://www.cadc-ccda.hia-iha.nrc-cnrc.gc.ca/caom2ops/cutout'\n",
    "\n",
    "    url_params = urllib.parse.urlencode(params_dict)\n",
    "    data_url = '{}?{}'.format(base_url, url_params)\n",
    "    if verbose:\n",
    "        print(data_url)\n",
    "    return data_url\n"
   ]
  },
  {
   "cell_type": "markdown",
   "metadata": {},
   "source": [
    "# Using photutils"
   ]
  },
  {
   "cell_type": "code",
   "execution_count": 117,
   "metadata": {},
   "outputs": [],
   "source": [
    "%matplotlib widget\n",
    "import matplotlib.pyplot as plt\n",
    "import warnings\n",
    "from matplotlib.patches import Circle\n",
    "\n",
    "from photutils import CircularAperture, aperture_photometry\n",
    "import matplotlib.gridspec as gridspec\n",
    "from astropy.visualization import LinearStretch, ImageNormalize, ZScaleInterval\n",
    "\n",
    "#TODO: Figure out what theses do and where to use them\n",
    "# plt.ioff()\n",
    "# plt.clf()\n",
    "\n",
    "# Supress fits processing warnings\n",
    "warnings.simplefilter('ignore')\n",
    "\n",
    "# Aperture results widget\n",
    "def make_aperture_text_widget():\n",
    "    aperture_widget = widgets.HTML(\n",
    "        placeholder='Click and drag on a subplot to select an area to analyze',\n",
    "        description='Aperture Data:',\n",
    "        disabled=False,\n",
    "        style={'description_width': 'initial'}\n",
    "    )\n",
    "    aperture_widget.layout.width = '800px'\n",
    "    return aperture_widget\n",
    "\n",
    "aperture_widget = make_aperture_text_widget()\n",
    "\n",
    "\n",
    "# Range slider widget\n",
    "def make_date_range_slider(results):\n",
    "    start_date = math.floor(results['time_bounds_lower'].min())\n",
    "    end_date = math.ceil(results['time_bounds_lower'].max())\n",
    "\n",
    "    dates = Time(np.arange(start_date, end_date+1, 1), format='mjd', out_subfmt='date')\n",
    "    options = [(' {} '.format(date.iso), date.mjd) for date in dates]\n",
    "    range_slider = widgets.SelectionRangeSlider(\n",
    "        options=options,\n",
    "        index=(0, 1), #TODO: Should check that this is not more than length of list\n",
    "        description='Date Range:',\n",
    "        disabled=False,\n",
    "        continuous_update=False,\n",
    "    )\n",
    "    range_slider.layout.width = '800px'\n",
    "    return range_slider\n",
    "\n",
    "def update_data(change):\n",
    "    #TODO: Check for overlap between old and new rather than re-grabbing everything\n",
    "    print(change)\n",
    "#     data_list = get_data_list(joined_table, change.new)\n",
    "#     if data_list:\n",
    "#         fig = kbo_figure(data_list) \n",
    "#         fig.canvas.draw()\n",
    "#         fig.canvas.flush_events()\n",
    "\n",
    "range_slider = make_date_range_slider(results)\n",
    "range_slider.observe(update_data, names='value')\n",
    "\n",
    "\n",
    "def get_data_list(joined_table, range_value, ext=2):\n",
    "    #TODO: Choose larger extension rather than just ext=2 lol\n",
    "    data_list = []\n",
    "    selection = get_selection(joined_table, range_value)\n",
    "    if len(selection) < 1:\n",
    "        print(\"Range is too small\")\n",
    "        return None\n",
    "    ra, dec, radius = get_cutout_params(selection)\n",
    "    selection['cutout_url'] = [get_cutout_urls(url, ra, dec, radius=radius*2) for url in selection['url']]\n",
    "\n",
    "    for url, ra, dec, date in zip(selection['cutout_url'], selection['Object_RA'], \n",
    "                                  selection['Object_Dec'], selection['time_bounds_lower']):\n",
    "        with fits.open(url, ignore_missing_end=True) as hdulist:\n",
    "            data = hdulist[ext].data\n",
    "            wcs = WCS(hdulist[ext].header)\n",
    "            date_fmtd = Time(date, format='mjd', out_subfmt='date_hm').iso\n",
    "            data_list.append({'image_data': data, 'wcs': wcs, 'ra': ra, 'dec': dec, 'date': date_fmtd})\n",
    "            \n",
    "    return data_list\n",
    "    \n",
    "\n",
    "#TODO: TRY with aplpy\n",
    "def kbo_figure(data_list, kbo_name):\n",
    "    #https://matplotlib.org/3.1.0/gallery/subplots_axes_and_figures/axes_zoom_effect.html\n",
    "    #sphx-glr-gallery-subplots-axes-and-figures-axes-zoom-effect-py\n",
    "    # TODO: Add circles around KBO\n",
    "    \n",
    "    p_center = None\n",
    "    global data_dict\n",
    "    \n",
    "    data_dict = {}\n",
    "    \n",
    "    def onclick(event):\n",
    "        # Check if in pan/zoom mode or click outside of axes\n",
    "        if (plt.get_current_fig_manager().toolbar.mode != '' or event.inaxes is None): return\n",
    "\n",
    "        global p_center\n",
    "\n",
    "        #     if circle and circle.contains(event):\n",
    "        #         circle.set_color('orange')\n",
    "        p_center = (event.xdata, event.ydata)\n",
    "\n",
    "    def onrelease(event):\n",
    "        # Check if in pan/zoom mode or click outside of axes\n",
    "        if (plt.get_current_fig_manager().toolbar.mode != '' or event.inaxes is None): return\n",
    "    \n",
    "        global p_center\n",
    "        global kbo_fig\n",
    "        global data_dict\n",
    "        \n",
    "        p_outside = (event.xdata, event.ydata)\n",
    "        radius = math.sqrt((p_center[0] - p_outside[0])**2 +\n",
    "                           (p_center[1] - p_outside[1])**2)\n",
    "        \n",
    "        if radius == 0.0: return\n",
    "        \n",
    "#         # Remove old circles\n",
    "        for ax in kbo_fig.axes:\n",
    "            for artist in ax.artists:\n",
    "                if isinstance(artist, plt.Circle):\n",
    "                    artist.remove()\n",
    "\n",
    "        # Draw new circles\n",
    "        circle = plt.Circle(p_center, radius, color='black', fill=False)\n",
    "        ax = event.inaxes\n",
    "        ax.add_artist(circle)\n",
    "        kbo_fig.canvas.draw()\n",
    "\n",
    "        aperture = CircularAperture(p_center, r=radius)\n",
    "        image_data = data_dict[ax.colNum]\n",
    "        phot_table = aperture_photometry(image_data, aperture)\n",
    "        aperture_widget.value = ' '.join(phot_table['aperture_sum'].pformat(html=True))\n",
    "\n",
    "    def plot_data(kbo_fig, data_list):\n",
    "        n = len(data_list)\n",
    "        global data_dict\n",
    "        cid_press = kbo_fig.canvas.mpl_connect('button_press_event', onclick)\n",
    "        cid_release = kbo_fig.canvas.mpl_connect('button_release_event', onrelease)\n",
    "        wcs_trans = data_list[0]['wcs']\n",
    "        gs = gridspec.GridSpec(1, n, figure=kbo_fig, wspace=0.1)\n",
    "\n",
    "        for idx, data in enumerate(data_list):\n",
    "            try:\n",
    "\n",
    "                # Normalize and plot the data\n",
    "                ax = plt.subplot(gs[idx], \n",
    "                                 projection=wcs_trans, adjustable='box', aspect='equal')\n",
    "                data_dict[idx] = data['image_data']\n",
    "\n",
    "                image_data_norm = ImageNormalize(data['image_data'],\n",
    "                                                 interval=ZScaleInterval(),\n",
    "                                                 stretch=LinearStretch())\n",
    "                ax.imshow(data['image_data'],\n",
    "                          norm=image_data_norm,\n",
    "                          transform=ax.get_transform(data['wcs']),\n",
    "                          cmap='gray')\n",
    "                \n",
    "                ax.set_title(data['date'], fontsize=10)\n",
    "                \n",
    "                # Add yellow circle around KBO position\n",
    "                c = Circle((data['ra'], data['dec']), 0.004, edgecolor='yellow', facecolor='none',\n",
    "                      transform=ax.get_transform('world'))\n",
    "                ax.add_patch(c)\n",
    "\n",
    "                # Add grid and remove axis labels\n",
    "                ax.coords.grid(color='white', ls='solid')\n",
    "                ra, dec = ax.coords['ra'], ax.coords['dec']\n",
    "                ra.set_ticklabel_visible(False)\n",
    "                dec.set_ticklabel_visible(False)\n",
    "                ra.set_axislabel('')\n",
    "                dec.set_axislabel('')\n",
    "\n",
    "            except ValueError as ex:\n",
    "                print('Value Error: %s' % ex)\n",
    "                continue\n",
    "\n",
    "        axes = kbo_fig.get_axes()\n",
    "        axes[0].get_shared_x_axes().join(*axes)\n",
    "        axes[0].get_shared_y_axes().join(*axes)\n",
    "        plt.subplots_adjust(left=0.05, right=0.95, top=0.9)\n",
    "        plt.tight_layout(pad=0.5)\n",
    "\n",
    "    kbo_fig = plt.figure(figsize=(9, 5))\n",
    "    kbo_fig.suptitle('Images of KBO {}'.format(kbo_name), fontsize=14, fontweight='bold', y=0.94)\n",
    "    plot_data(kbo_fig, data_list)\n",
    "    return kbo_fig\n",
    "\n"
   ]
  },
  {
   "cell_type": "code",
   "execution_count": 115,
   "metadata": {
    "scrolled": true
   },
   "outputs": [
    {
     "name": "stdout",
     "output_type": "stream",
     "text": [
      " id aperture_sum\n",
      "--- ------------\n",
      "  1      28.2743\n",
      "  2      28.2743\n"
     ]
    }
   ],
   "source": [
    "from photutils import CircularAperture\n",
    "positions = [(30., 30.), (40., 40.)]\n",
    "apertures = CircularAperture(positions, r=3.)\n",
    "\n",
    "import numpy as np\n",
    "from photutils import aperture_photometry\n",
    "data = np.ones((100, 100))\n",
    "phot_table = aperture_photometry(data, apertures)\n",
    "phot_table['aperture_sum'].info.format = '%.6g'  # for consistent table output\n",
    "print(phot_table['aperture_sum']])\n"
   ]
  },
  {
   "cell_type": "code",
   "execution_count": 116,
   "metadata": {},
   "outputs": [
    {
     "data": {
      "application/vnd.jupyter.widget-view+json": {
       "model_id": "f89c7ad05bf44abbb30c1242a2364855",
       "version_major": 2,
       "version_minor": 0
      },
      "text/plain": [
       "HTML(value='<table id=\"table139913696577632\"> <thead><tr><th>id</th><th>aperture_sum</th></tr></thead> <tr><td…"
      ]
     },
     "metadata": {},
     "output_type": "display_data"
    }
   ],
   "source": [
    "\n",
    "aperture_widget.value = ' '.join(phot_table[['id', 'aperture_sum']].pformat(html=True))\n",
    "aperture_widget"
   ]
  },
  {
   "cell_type": "code",
   "execution_count": 50,
   "metadata": {},
   "outputs": [
    {
     "data": {
      "application/vnd.jupyter.widget-view+json": {
       "model_id": "a9f1d0ca3aa747bcaa7f38bb867d1036",
       "version_major": 2,
       "version_minor": 0
      },
      "text/plain": [
       "SelectionRangeSlider(continuous_update=False, description='Date Range:', index=(0, 1), layout=Layout(width='80…"
      ]
     },
     "metadata": {},
     "output_type": "display_data"
    }
   ],
   "source": [
    "range_slider"
   ]
  },
  {
   "cell_type": "code",
   "execution_count": 13,
   "metadata": {},
   "outputs": [
    {
     "name": "stdout",
     "output_type": "stream",
     "text": [
      "95\n",
      "17\n"
     ]
    }
   ],
   "source": [
    "data_list = get_data_list(joined_table, range_slider.value)\n",
    "\n",
    "\n",
    "print(len(joined_table))\n",
    "print(len(data_list))"
   ]
  },
  {
   "cell_type": "code",
   "execution_count": 118,
   "metadata": {
    "scrolled": false
   },
   "outputs": [
    {
     "data": {
      "application/vnd.jupyter.widget-view+json": {
       "model_id": "2b2b5309f1414329bdadd25819091280",
       "version_major": 2,
       "version_minor": 0
      },
      "text/plain": [
       "FigureCanvasNbAgg()"
      ]
     },
     "metadata": {},
     "output_type": "display_data"
    }
   ],
   "source": [
    "# plt.ioff()\n",
    "kbo_fig = kbo_figure(data_list[::3], kbo_name)"
   ]
  },
  {
   "cell_type": "code",
   "execution_count": 119,
   "metadata": {
    "scrolled": true
   },
   "outputs": [
    {
     "data": {
      "application/vnd.jupyter.widget-view+json": {
       "model_id": "d1fa1ce2979c47d6b5846a95d8f86741",
       "version_major": 2,
       "version_minor": 0
      },
      "text/plain": [
       "VBox(children=(SelectionRangeSlider(continuous_update=False, description='Date Range:', index=(0, 1), layout=L…"
      ]
     },
     "metadata": {},
     "output_type": "display_data"
    }
   ],
   "source": [
    "# Display Block\n",
    "# Organize the widgets presentably\n",
    "\n",
    "#kbo_figure()\n",
    "#plt.clf()\n",
    "plt.ion()\n",
    "b_layout = widgets.Layout(align_items='center', align_content = 'center', border='none', justify_content = 'center', \n",
    "                          width = '100%')\n",
    "\n",
    "big_box = widgets.VBox([range_slider, kbo_fig.canvas, aperture_widget], layout = b_layout)\n",
    "\n",
    "display(big_box)\n"
   ]
  },
  {
   "cell_type": "code",
   "execution_count": null,
   "metadata": {},
   "outputs": [],
   "source": []
  },
  {
   "cell_type": "code",
   "execution_count": null,
   "metadata": {},
   "outputs": [],
   "source": [
    "#X  TODO: Get interactive toolbar working\n",
    "#X TODO: Better layout (not sp tall and skinny and spreadout)\n",
    "# TODO: Get date range slider to replot current fig (not make new figs!)\n",
    "# TODO: Make aperture data more visually nice"
   ]
  }
 ],
 "metadata": {
  "kernelspec": {
   "display_name": "Python (tutorials)",
   "language": "python",
   "name": "tutorials"
  },
  "language_info": {
   "codemirror_mode": {
    "name": "ipython",
    "version": 3
   },
   "file_extension": ".py",
   "mimetype": "text/x-python",
   "name": "python",
   "nbconvert_exporter": "python",
   "pygments_lexer": "ipython3",
   "version": "3.6.8"
  }
 },
 "nbformat": 4,
 "nbformat_minor": 2
}
