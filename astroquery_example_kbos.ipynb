{
 "cells": [
  {
   "cell_type": "markdown",
   "metadata": {},
   "source": [
    "# Interactive KBO Notebook\n",
    "In this notebook, we will make a bare-bones application to interactively explore the movement and light profile of KBOs and other moving objects. To fetch data, we will use the [Solar System Object Image Search](https://www.cadc-ccda.hia-iha.nrc-cnrc.gc.ca/en/ssois/documentation.html) tool provided by the CADC.\n",
    "\n",
    "\n",
    "## Table of Contents\n",
    "* [1. Introduction](#1.-Introduction)\n",
    "* [2. Setup](#2.-Setup)\n",
    "* [3. SSOIS Query](#3.-SSOIS-Query)\n",
    "    * [3.1 Aladin Widget](#3.1-Aladin-Widget)\n",
    "* [4. Helper Functions](#4.-Helper-Functions)\n",
    "* [5. Widgets](#5.-Widgets)\n",
    "    * [5.1 The KBO Figure](#5.1-The-KBO-Figure)\n",
    "* [6. Putting it All Together](#6.-Putting-it-All-Together)\n",
    "\n",
    "## 1. Introduction\n",
    "\n",
    "The idea for this notebook is to give an outline of a lightweight, interactive tool in a jupyter notebook. We want the ability to display, interact with, and analyze data interactively. The end goal is an application that allows a user to select a subset of SSOIS images using a date range slider and plot the subset, then select a circular area on the interactive plot and calculate the aperture sum.\n",
    "\n",
    "## 2. Setup\n",
    "This tutorial will go through some of the basic functionalities of the python packages such as:\n",
    "* _astropy_ for astronomical operations\n",
    "* _ipyaladin_ for a widget for Aladin Lite\n",
    "* _ipywidgets_ to build interactive widgets\n",
    "* _matplotlib_ to plot data\n",
    "* _ipympl_ for the interactive `%matplotlib widget` backend\n",
    "\n",
    "## 3. SSOIS Query\n",
    "In order to get images of a moving object, we will use the [Solar System Object Image Search](https://www.cadc-ccda.hia-iha.nrc-cnrc.gc.ca/en/ssois/documentation.html) tool provided by the CADC. We will search by object name between a start and end date. To choose an object to search, we will use the [Minor Planet Center search tool](https://minorplanetcenter.net/db_search/) and search the database where the minimum semi-major axis value is 50 AU. From the [results table](https://minorplanetcenter.net/db_search/show_by_properties?utf8=%E2%9C%93&semimajor_axis_min=50&semimajor_axis_max=&eccentricity_min=&eccentricity_max=&inclination_min=&inclination_max=&argument_of_perihelion_min=&argument_of_perihelion_max=&ascending_node_min=&ascending_node_max=&mean_anomaly_min=&mean_anomaly_max=&mean_daily_motion_min=&mean_daily_motion_max=&perihelion_distance_min=&perihelion_distance_max=&aphelion_distance_min=&aphelion_distance_max=&period_min=&period_max=&absolute_magnitude_min=&absolute_magnitude_max=&orbit_uncertainty_min=&orbit_uncertainty_max=), we chose [the KBO 2010 GB174](https://minorplanetcenter.net/db_search/show_object?object_id=2010+GB174) to query for. We will search between the dates January 1st, 2010, to January 1st, 2016."
   ]
  },
  {
   "cell_type": "code",
   "execution_count": 1,
   "metadata": {
    "scrolled": true
   },
   "outputs": [
    {
     "data": {
      "text/html": [
       "<div>\n",
       "<style scoped>\n",
       "    .dataframe tbody tr th:only-of-type {\n",
       "        vertical-align: middle;\n",
       "    }\n",
       "\n",
       "    .dataframe tbody tr th {\n",
       "        vertical-align: top;\n",
       "    }\n",
       "\n",
       "    .dataframe thead th {\n",
       "        text-align: right;\n",
       "    }\n",
       "</style>\n",
       "<table border=\"1\" class=\"dataframe\">\n",
       "  <thead>\n",
       "    <tr style=\"text-align: right;\">\n",
       "      <th></th>\n",
       "      <th>Image</th>\n",
       "      <th>MJD</th>\n",
       "      <th>Filter</th>\n",
       "      <th>Exptime</th>\n",
       "      <th>Object_RA</th>\n",
       "      <th>Object_Dec</th>\n",
       "      <th>Image_target</th>\n",
       "      <th>Telescope/Instrument</th>\n",
       "      <th>MetaData</th>\n",
       "      <th>Datalink</th>\n",
       "    </tr>\n",
       "  </thead>\n",
       "  <tbody>\n",
       "    <tr>\n",
       "      <th>17</th>\n",
       "      <td>1183654p</td>\n",
       "      <td>55298.348651</td>\n",
       "      <td>G.MP9401</td>\n",
       "      <td>634</td>\n",
       "      <td>189.622392</td>\n",
       "      <td>15.045956</td>\n",
       "      <td>NGVS+2+3</td>\n",
       "      <td>CFHT/MegaCam</td>\n",
       "      <td>http://www.cadc-ccda.hia-iha.nrc-cnrc.gc.ca/da...</td>\n",
       "      <td>NaN</td>\n",
       "    </tr>\n",
       "    <tr>\n",
       "      <th>18</th>\n",
       "      <td>1183824p</td>\n",
       "      <td>55299.294388</td>\n",
       "      <td>G.MP9401</td>\n",
       "      <td>634</td>\n",
       "      <td>189.611366</td>\n",
       "      <td>15.049740</td>\n",
       "      <td>NGVS+2+3</td>\n",
       "      <td>CFHT/MegaCam</td>\n",
       "      <td>http://www.cadc-ccda.hia-iha.nrc-cnrc.gc.ca/da...</td>\n",
       "      <td>NaN</td>\n",
       "    </tr>\n",
       "    <tr>\n",
       "      <th>19</th>\n",
       "      <td>1183831p</td>\n",
       "      <td>55299.351782</td>\n",
       "      <td>G.MP9401</td>\n",
       "      <td>634</td>\n",
       "      <td>189.610699</td>\n",
       "      <td>15.049966</td>\n",
       "      <td>NGVS+2+3</td>\n",
       "      <td>CFHT/MegaCam</td>\n",
       "      <td>http://www.cadc-ccda.hia-iha.nrc-cnrc.gc.ca/da...</td>\n",
       "      <td>NaN</td>\n",
       "    </tr>\n",
       "    <tr>\n",
       "      <th>20</th>\n",
       "      <td>1183838p</td>\n",
       "      <td>55299.409538</td>\n",
       "      <td>G.MP9401</td>\n",
       "      <td>634</td>\n",
       "      <td>189.610028</td>\n",
       "      <td>15.050193</td>\n",
       "      <td>NGVS+2+3</td>\n",
       "      <td>CFHT/MegaCam</td>\n",
       "      <td>http://www.cadc-ccda.hia-iha.nrc-cnrc.gc.ca/da...</td>\n",
       "      <td>NaN</td>\n",
       "    </tr>\n",
       "    <tr>\n",
       "      <th>21</th>\n",
       "      <td>1183845p</td>\n",
       "      <td>55299.466308</td>\n",
       "      <td>G.MP9401</td>\n",
       "      <td>634</td>\n",
       "      <td>189.609369</td>\n",
       "      <td>15.050416</td>\n",
       "      <td>NGVS+2+3</td>\n",
       "      <td>CFHT/MegaCam</td>\n",
       "      <td>http://www.cadc-ccda.hia-iha.nrc-cnrc.gc.ca/da...</td>\n",
       "      <td>NaN</td>\n",
       "    </tr>\n",
       "  </tbody>\n",
       "</table>\n",
       "</div>"
      ],
      "text/plain": [
       "       Image           MJD    Filter  Exptime   Object_RA  Object_Dec  \\\n",
       "17  1183654p  55298.348651  G.MP9401      634  189.622392   15.045956   \n",
       "18  1183824p  55299.294388  G.MP9401      634  189.611366   15.049740   \n",
       "19  1183831p  55299.351782  G.MP9401      634  189.610699   15.049966   \n",
       "20  1183838p  55299.409538  G.MP9401      634  189.610028   15.050193   \n",
       "21  1183845p  55299.466308  G.MP9401      634  189.609369   15.050416   \n",
       "\n",
       "   Image_target Telescope/Instrument  \\\n",
       "17     NGVS+2+3         CFHT/MegaCam   \n",
       "18     NGVS+2+3         CFHT/MegaCam   \n",
       "19     NGVS+2+3         CFHT/MegaCam   \n",
       "20     NGVS+2+3         CFHT/MegaCam   \n",
       "21     NGVS+2+3         CFHT/MegaCam   \n",
       "\n",
       "                                             MetaData  Datalink  \n",
       "17  http://www.cadc-ccda.hia-iha.nrc-cnrc.gc.ca/da...       NaN  \n",
       "18  http://www.cadc-ccda.hia-iha.nrc-cnrc.gc.ca/da...       NaN  \n",
       "19  http://www.cadc-ccda.hia-iha.nrc-cnrc.gc.ca/da...       NaN  \n",
       "20  http://www.cadc-ccda.hia-iha.nrc-cnrc.gc.ca/da...       NaN  \n",
       "21  http://www.cadc-ccda.hia-iha.nrc-cnrc.gc.ca/da...       NaN  "
      ]
     },
     "execution_count": 1,
     "metadata": {},
     "output_type": "execute_result"
    }
   ],
   "source": [
    "%matplotlib widget\n",
    "from urllib.parse import urlencode\n",
    "\n",
    "import pandas as pd\n",
    "\n",
    "# Define search parameters\n",
    "kbo_name = '2010 GB174'\n",
    "start_date = '2010 01 01'\n",
    "end_date = '2016 01 01'\n",
    "\n",
    "# Build query url\n",
    "params = {\n",
    "    'lang': 'en',\n",
    "    'object': kbo_name,\n",
    "    'search': 'bynameCADC',\n",
    "    'epoch1': start_date,\n",
    "    'epoch2': end_date,\n",
    "    'eunits': 'arcseconds',\n",
    "    'extres': 'no',  # Return the extension where the KBO can be seen in\n",
    "    'xyres': 'no',  # Return the pixel X and Y position of the KBO\n",
    "    'format': 'tsv'\n",
    "}\n",
    "base_url = 'https://www.cadc-ccda.hia-iha.nrc-cnrc.gc.ca/cadcbin/ssos/ssosclf.pl'\n",
    "url = '{}?{}'.format(base_url, urlencode(params))\n",
    "\n",
    "# Access data and convert to panadas dataframe\n",
    "data_table = pd.read_csv(url, sep='\\t')\n",
    "\n",
    "# Get results with a long exposure and the g-band filter\n",
    "data_table = data_table[(data_table['Exptime'] > 100)\n",
    "                        & (data_table['Filter'] == \"G.MP9401\")]\n",
    "\n",
    "data_table"
   ]
  },
  {
   "cell_type": "markdown",
   "metadata": {},
   "source": [
    "### 3.1 Aladin Widget\n",
    "To show the location of the SSOIS results, we can use the interactive widget provided by Aladin. This widget has much more functionality that can be explored in the [jupyter notebooks on the ipyaladin github](https://github.com/cds-astro/ipyaladin/tree/master/examples)."
   ]
  },
  {
   "cell_type": "code",
   "execution_count": 2,
   "metadata": {
    "scrolled": false
   },
   "outputs": [
    {
     "data": {
      "application/vnd.jupyter.widget-view+json": {
       "model_id": "2e3df7528e554c5d8bc39e6501f126de",
       "version_major": 2,
       "version_minor": 0
      },
      "text/plain": [
       "Aladin(fov=1.0, layout=Layout(height='400px', width='100%'), options=['allow_full_zoomout', 'coo_frame', 'fov'…"
      ]
     },
     "metadata": {},
     "output_type": "display_data"
    }
   ],
   "source": [
    "import numpy as np\n",
    "from astropy.table import Column, Table\n",
    "from ipywidgets import Layout\n",
    "\n",
    "from ipyaladin import Aladin\n",
    "\n",
    "# Convert data table to astropy table and rename RA and Dec columns\n",
    "table = Table.from_pandas(data_table)\n",
    "table.rename_column('Object_RA', 'RA')\n",
    "table.rename_column('Object_Dec', 'DEC')\n",
    "table.rename_column('Telescope/Instrument', 'Telescope_Instrument')\n",
    "table['Image'] = Column(data=data_table['Image'],\n",
    "                        name='Image',\n",
    "                        dtype=np.dtype('S10'))\n",
    "\n",
    "target_pos = '{} {}'.format(table[0]['RA'], table[0]['DEC'])\n",
    "\n",
    "# Display the widget and add the table\n",
    "aladin = Aladin(target=target_pos,\n",
    "                layout=Layout(width='100%', height='400px'),\n",
    "                fov=1)\n",
    "display(aladin)\n",
    "aladin.add_table(table)"
   ]
  },
  {
   "cell_type": "markdown",
   "metadata": {},
   "source": [
    "### 3.2 Get CADC data\n",
    "Since we want to later use the datalink service to fetch cutouts of the KBOs, we will query CADC for the results to get the publisherIDs.\n"
   ]
  },
  {
   "cell_type": "code",
   "execution_count": 3,
   "metadata": {
    "scrolled": true
   },
   "outputs": [
    {
     "data": {
      "text/html": [
       "<div>\n",
       "<style scoped>\n",
       "    .dataframe tbody tr th:only-of-type {\n",
       "        vertical-align: middle;\n",
       "    }\n",
       "\n",
       "    .dataframe tbody tr th {\n",
       "        vertical-align: top;\n",
       "    }\n",
       "\n",
       "    .dataframe thead th {\n",
       "        text-align: right;\n",
       "    }\n",
       "</style>\n",
       "<table border=\"1\" class=\"dataframe\">\n",
       "  <thead>\n",
       "    <tr style=\"text-align: right;\">\n",
       "      <th></th>\n",
       "      <th>Image</th>\n",
       "      <th>MJD</th>\n",
       "      <th>RA</th>\n",
       "      <th>DEC</th>\n",
       "      <th>publisherID</th>\n",
       "    </tr>\n",
       "  </thead>\n",
       "  <tbody>\n",
       "    <tr>\n",
       "      <th>0</th>\n",
       "      <td>1183654p</td>\n",
       "      <td>55298.348651</td>\n",
       "      <td>189.622392</td>\n",
       "      <td>15.045956</td>\n",
       "      <td>ivo://cadc.nrc.ca/CFHT?1183654/1183654p</td>\n",
       "    </tr>\n",
       "    <tr>\n",
       "      <th>1</th>\n",
       "      <td>1183831p</td>\n",
       "      <td>55299.351782</td>\n",
       "      <td>189.610699</td>\n",
       "      <td>15.049966</td>\n",
       "      <td>ivo://cadc.nrc.ca/CFHT?1183831/1183831p</td>\n",
       "    </tr>\n",
       "    <tr>\n",
       "      <th>2</th>\n",
       "      <td>1183845p</td>\n",
       "      <td>55299.466308</td>\n",
       "      <td>189.609369</td>\n",
       "      <td>15.050416</td>\n",
       "      <td>ivo://cadc.nrc.ca/CFHT?1183845/1183845p</td>\n",
       "    </tr>\n",
       "    <tr>\n",
       "      <th>3</th>\n",
       "      <td>1183824p</td>\n",
       "      <td>55299.294388</td>\n",
       "      <td>189.611366</td>\n",
       "      <td>15.049740</td>\n",
       "      <td>ivo://cadc.nrc.ca/CFHT?1183824/1183824p</td>\n",
       "    </tr>\n",
       "    <tr>\n",
       "      <th>4</th>\n",
       "      <td>1183838p</td>\n",
       "      <td>55299.409538</td>\n",
       "      <td>189.610028</td>\n",
       "      <td>15.050193</td>\n",
       "      <td>ivo://cadc.nrc.ca/CFHT?1183838/1183838p</td>\n",
       "    </tr>\n",
       "  </tbody>\n",
       "</table>\n",
       "</div>"
      ],
      "text/plain": [
       "      Image           MJD          RA        DEC  \\\n",
       "0  1183654p  55298.348651  189.622392  15.045956   \n",
       "1  1183831p  55299.351782  189.610699  15.049966   \n",
       "2  1183845p  55299.466308  189.609369  15.050416   \n",
       "3  1183824p  55299.294388  189.611366  15.049740   \n",
       "4  1183838p  55299.409538  189.610028  15.050193   \n",
       "\n",
       "                               publisherID  \n",
       "0  ivo://cadc.nrc.ca/CFHT?1183654/1183654p  \n",
       "1  ivo://cadc.nrc.ca/CFHT?1183831/1183831p  \n",
       "2  ivo://cadc.nrc.ca/CFHT?1183845/1183845p  \n",
       "3  ivo://cadc.nrc.ca/CFHT?1183824/1183824p  \n",
       "4  ivo://cadc.nrc.ca/CFHT?1183838/1183838p  "
      ]
     },
     "execution_count": 3,
     "metadata": {},
     "output_type": "execute_result"
    }
   ],
   "source": [
    "from astroquery.cadc import Cadc\n",
    "\n",
    "cadc = Cadc()\n",
    "\n",
    "cadc_results = cadc.exec_sync('''SELECT upload_table.*, Plane.publisherID \n",
    "FROM tap_upload.upload_table AS upload_table\n",
    "JOIN caom2.Plane AS Plane ON Plane.productID = upload_table.Image\n",
    "JOIN caom2.Observation AS Observation ON Plane.obsID = Observation.obsID ''',\n",
    "                              uploads={'upload_table': table[['Image', 'MJD', 'RA', 'DEC']]})\n",
    "\n",
    "cadc_table = cadc_results.to_pandas()\n",
    "str_results = cadc_table[['Image', 'publisherID']\n",
    "                         ].stack().str.decode('utf-8').unstack()\n",
    "for col in str_results:\n",
    "    cadc_table[col] = str_results[col]\n",
    "\n",
    "cadc_table"
   ]
  },
  {
   "cell_type": "markdown",
   "metadata": {},
   "source": [
    "## 4. Helper Functions\n",
    "The end goal is to make an application with a date slider that selects a subset of data then plots all the files in the subset, with interactivity to preform aperture photometry. To speed up the program, we can use cutouts to only show the data that we want to look at. In order to do all of this, we need helper functions to select a subset of images, calculate the cutout parameters, get the cutout urls, and fetch the cutout data."
   ]
  },
  {
   "cell_type": "code",
   "execution_count": 4,
   "metadata": {},
   "outputs": [],
   "source": [
    "import re\n",
    "from urllib.error import HTTPError\n",
    "\n",
    "from astropy import units as u\n",
    "from astropy.coordinates import SkyCoord\n",
    "from astropy.io import fits\n",
    "from astropy.time import Time\n",
    "from astropy.wcs import WCS\n",
    "\n",
    "\n",
    "def get_selection(table, date_range):\n",
    "    \"\"\"Returns the subset of rows in the table within the date_range.\"\"\"\n",
    "    return table[(table['MJD'] >= date_range[0])\n",
    "                 & (table['MJD'] < date_range[1] + 1)]\n",
    "\n",
    "\n",
    "def get_cutout_params(table, min_radius=0.005):\n",
    "    \"\"\"Given a table with R.A. and Dec. columns, returns the parameters of the\n",
    "    circle needed to include all positions.\"\"\"\n",
    "\n",
    "    # Get the max and min R.A. and Dec. values\n",
    "    ra_max, ra_min = table['RA'].max(), table['RA'].min()\n",
    "    dec_max, dec_min = table['DEC'].max(), table['DEC'].min()\n",
    "\n",
    "    # Get the R.A. and Dec. centre and radius that covers all points\n",
    "    ra_centre = (ra_max + ra_min) / 2\n",
    "    dec_centre = (dec_max + dec_min) / 2\n",
    "    ra_radius = abs(ra_max - ra_min) / 2\n",
    "    dec_radius = abs(dec_max - dec_min) / 2\n",
    "    \n",
    "    coords = SkyCoord(ra_centre, dec_centre, unit=(u.deg, u.deg))\n",
    "    radius = max(round(max(ra_radius, dec_radius), 2), min_radius) * u.deg\n",
    "\n",
    "    return coords, radius\n",
    "\n",
    "\n",
    "def get_data_list(table, ext=0, verbose=False):\n",
    "    \"\"\"Given the table with cutout urls, return the fits image and WCS information\"\"\"\n",
    "    data_list = []\n",
    "    if len(table) < 1:\n",
    "        print(\"Range is too small\")\n",
    "        return None\n",
    "    coords, radius = get_cutout_params(table)\n",
    "\n",
    "    table['cutout_url'] = cadc.get_image_list(table, coords, radius)\n",
    "\n",
    "    for url, ra, dec, date in zip(table['cutout_url'], table['RA'],\n",
    "                                  table['DEC'], table['MJD']):\n",
    "        try:\n",
    "            with fits.open(url, ignore_missing_end=True) as hdulist:\n",
    "                if verbose:\n",
    "                    hdulist.info()\n",
    "                data = hdulist[ext].data\n",
    "                wcs = WCS(hdulist[ext].header)\n",
    "                date_fmtd = Time(date, format='mjd', out_subfmt='date_hm').iso\n",
    "                data_list.append({\n",
    "                    'image_data': data,\n",
    "                    'wcs': wcs,\n",
    "                    'ra': ra,\n",
    "                    'dec': dec,\n",
    "                    'date': date_fmtd\n",
    "                })\n",
    "        except HTTPError as ex:\n",
    "            print(ex)\n",
    "            continue\n",
    "    return data_list"
   ]
  },
  {
   "cell_type": "markdown",
   "metadata": {},
   "source": [
    "## 5. Widgets\n",
    "Now we make our widgets! We want one widget to allow the user to select a date range to display, a button to replot the data, and another widget to display the aperture data. Technically, we also want the plot itself to be a widget, but we will come to that later."
   ]
  },
  {
   "cell_type": "code",
   "execution_count": 5,
   "metadata": {},
   "outputs": [],
   "source": [
    "import math\n",
    "\n",
    "import numpy as np\n",
    "from ipywidgets import widgets\n",
    "from traitlets import traitlets\n",
    "\n",
    "\n",
    "# Date range slider widget\n",
    "def make_date_range_slider(table):\n",
    "    \"\"\" Function to generate the date range slider based on the date ranges in the results table\"\"\"\n",
    "    start_date = math.floor(table['MJD'].min())\n",
    "    end_date = math.ceil(table['MJD'].max())\n",
    "\n",
    "    dates = Time(np.arange(start_date, end_date, 1),\n",
    "                 format='mjd',\n",
    "                 out_subfmt='date')\n",
    "    # Match value to formated date output for nicer display\n",
    "    options = [(' {} '.format(date.iso), date.mjd) for date in dates]\n",
    "\n",
    "    # Range slider to select dates\n",
    "    range_slider = widgets.SelectionRangeSlider(\n",
    "        options=options,\n",
    "        index=(0, 1),\n",
    "        description='Date Range:',\n",
    "        disabled=False,\n",
    "        continuous_update=True,\n",
    "        layout=Layout(width='700px'),\n",
    "    )\n",
    "\n",
    "    # The slider controls the selected rows of the table data\n",
    "    selection = get_selection(table, range_slider.value)\n",
    "    range_slider.add_traits(selection=traitlets.Any(selection))\n",
    "\n",
    "    # Label to show number of files in selected date range\n",
    "    range_label = widgets.Label(\n",
    "        value=\"Number of Results: {}\".format(len(selection)))\n",
    "\n",
    "    # When slider changes, update selection table and results num label\n",
    "    def update_selection(change):\n",
    "        new_selection = get_selection(table, change['new'])\n",
    "        range_slider.selection = new_selection\n",
    "        range_label.value = \"Number of Results: {}\".format(len(new_selection))\n",
    "\n",
    "    range_slider.observe(update_selection, names='value')\n",
    "\n",
    "    return widgets.VBox([range_slider, range_label])\n",
    "\n",
    "\n",
    "# Replot button widget\n",
    "def make_replot_button(range_slider, kbo_fig, kbo_name):\n",
    "    replot_button = widgets.Button(description=\"Replot\")\n",
    "    \n",
    "    # When button is clicked, get new selection and replot\n",
    "    def on_button_clicked(change):\n",
    "        data_list = get_data_list(Table.from_pandas(range_slider.children[0].selection), ext='ccd17')\n",
    "        plot_data(kbo_fig, data_list, kbo_name)\n",
    "\n",
    "    replot_button.on_click(on_button_clicked)\n",
    "    \n",
    "    return replot_button\n",
    "\n",
    "\n",
    "# Aperture results widget\n",
    "def make_aperture_text_widget():\n",
    "    \"\"\"Returns widget to display aperture information\"\"\"\n",
    "    aperture_widget = widgets.HTML(\n",
    "        value='Click and drag on a subplot to select an area to analyze',\n",
    "        placeholder='<b>Aperture Sum: </b>',\n",
    "        description='<b>Aperture Sum: </b>',\n",
    "        disabled=False,\n",
    "        style={'description_width': 'initial'},\n",
    "        layout=Layout(width='90%'),\n",
    "    )\n",
    "    return aperture_widget"
   ]
  },
  {
   "cell_type": "markdown",
   "metadata": {},
   "source": [
    "### 5.1 The KBO Figure\n",
    "This is the interactive plot of the KBO. Since the `matplotlib widget` backend is used, the figure canvas can be used as a widget, which we will use in a box along with the aperture widget. We want the ability to draw circles to show which area is going to be used in the aperture analysis, meaning we will have to use click event handlers."
   ]
  },
  {
   "cell_type": "code",
   "execution_count": 6,
   "metadata": {},
   "outputs": [],
   "source": [
    "import warnings\n",
    "\n",
    "import matplotlib.gridspec as gridspec\n",
    "import matplotlib.pyplot as plt\n",
    "from astropy.visualization import ImageNormalize, LinearStretch, ZScaleInterval\n",
    "from matplotlib.patches import Circle\n",
    "from photutils import CircularAperture, SkyAperture, aperture_photometry\n",
    "\n",
    "# Supress fits processing warnings\n",
    "warnings.simplefilter('ignore')\n",
    "\n",
    "\n",
    "def kbo_figure(data_list, kbo_name):\n",
    "    \"\"\"Build the figure and click events\"\"\"\n",
    "    global data_dict\n",
    "    p_center = None\n",
    "    data_dict = {}\n",
    "\n",
    "    def onclick(event):\n",
    "        global p_center\n",
    "        \n",
    "        # Return if in pan/zoom mode or click outside of axes\n",
    "        if (plt.get_current_fig_manager().toolbar.mode != ''\n",
    "                or event.inaxes is None):\n",
    "            return\n",
    "        \n",
    "        p_center = (event.xdata, event.ydata)\n",
    "\n",
    "    def onrelease(event):\n",
    "        global p_center\n",
    "        global kbo_fig\n",
    "        global data_dict\n",
    "\n",
    "        # Return if in pan/zoom mode or click outside of axes\n",
    "        if (plt.get_current_fig_manager().toolbar.mode != ''\n",
    "                or event.inaxes is None):\n",
    "            return\n",
    "\n",
    "        # Calculate circle radius\n",
    "        p_outside = (event.xdata, event.ydata)\n",
    "        radius = math.sqrt((p_center[0] - p_outside[0])**2 +\n",
    "                           (p_center[1] - p_outside[1])**2)\n",
    "\n",
    "        if radius == 0.0: return\n",
    "\n",
    "        # Remove old circles\n",
    "        for ax in kbo_fig.axes:\n",
    "            for artist in ax.artists:\n",
    "                if isinstance(artist, plt.Circle):\n",
    "                    artist.remove()\n",
    "\n",
    "        # Draw new circles\n",
    "        circle = plt.Circle(p_center, radius, color='black', fill=False)\n",
    "        ax = event.inaxes\n",
    "        ax.add_artist(circle)\n",
    "        kbo_fig.canvas.draw()\n",
    "\n",
    "        # Do aperture photometry\n",
    "        aperture = CircularAperture(p_center, r=radius)\n",
    "        image_data = data_dict[(ax.rowNum, ax.colNum)]\n",
    "        phot_table = aperture_photometry(image_data, aperture)\n",
    "        aperture_widget.value = '{:.8}'.format(phot_table['aperture_sum'][0])\n",
    "\n",
    "    # Create figure and oonnect click events\n",
    "    kbo_fig = plt.figure(figsize=(9, 8))\n",
    "    cid_press = kbo_fig.canvas.mpl_connect('button_press_event', onclick)\n",
    "    cid_release = kbo_fig.canvas.mpl_connect('button_release_event', onrelease)\n",
    "\n",
    "    plot_data(kbo_fig, data_list, kbo_name)\n",
    "    return kbo_fig\n",
    "\n",
    "\n",
    "def plot_data(kbo_fig, data_list, kbo_name, max_cols=3):\n",
    "    \"\"\"Plot data on datalist to KBO fig\"\"\"\n",
    "    global data_dict\n",
    "    data_dict = dict()\n",
    "    n = len(data_list)\n",
    "    \n",
    "    # Clear the figure if needed\n",
    "    plt.clf()\n",
    "\n",
    "    kbo_fig.suptitle('Images of KBO {}'.format(kbo_name),\n",
    "         fontsize=14,\n",
    "         fontweight='bold')\n",
    "        \n",
    "    # Set all axes to be in same WCS\n",
    "    wcs_trans = data_list[0]['wcs']\n",
    "    gs = gridspec.GridSpec(math.ceil(n / max_cols),\n",
    "                           max_cols,\n",
    "                           figure=kbo_fig,\n",
    "                           wspace=0.1)\n",
    "\n",
    "    for idx, data in enumerate(data_list):\n",
    "        try:\n",
    "\n",
    "            \n",
    "            ax = plt.subplot(gs[idx // max_cols, idx % max_cols],\n",
    "                             projection=wcs_trans,\n",
    "                             adjustable='box',\n",
    "                             aspect='equal')\n",
    "            \n",
    "            # Set the global data_dict to be used for photometry\n",
    "            data_dict[(ax.rowNum, ax.colNum)] = data['image_data']\n",
    "\n",
    "            # Normalize and plot the data\n",
    "            image_data_norm = ImageNormalize(data['image_data'],\n",
    "                                             interval=ZScaleInterval(),\n",
    "                                             stretch=LinearStretch())\n",
    "            ax.imshow(data['image_data'],\n",
    "                      norm=image_data_norm,\n",
    "                      transform=ax.get_transform(data['wcs']),\n",
    "                      cmap='gray')\n",
    "            ax.set_title(data['date'], fontsize=10)\n",
    "\n",
    "            # Add yellow circle around KBO position\n",
    "            c = Circle((data['ra'], data['dec']),\n",
    "                       0.002,\n",
    "                       edgecolor='yellow',\n",
    "                       facecolor='none',\n",
    "                       transform=ax.get_transform('world'))\n",
    "            ax.add_patch(c)\n",
    "\n",
    "            # Add grid and remove axis labels\n",
    "            ax.coords.grid(color='white', ls='solid')\n",
    "            ra, dec = ax.coords['ra'], ax.coords['dec']\n",
    "            ra.set_ticklabel_visible(False)\n",
    "            dec.set_ticklabel_visible(False)\n",
    "            ra.set_axislabel('')\n",
    "            dec.set_axislabel('')\n",
    "\n",
    "        except ValueError as ex:\n",
    "            print('Value Error: %s' % ex)\n",
    "            continue\n",
    "\n",
    "    axes = kbo_fig.get_axes()\n",
    "    axes[0].get_shared_x_axes().join(*axes)\n",
    "    axes[0].get_shared_y_axes().join(*axes)\n",
    "    plt.subplots_adjust(left=0.05, right=0.95, top=0.9)\n",
    "    plt.tight_layout(pad=0.5)"
   ]
  },
  {
   "cell_type": "markdown",
   "metadata": {},
   "source": [
    "## 6. Putting it All Together\n",
    "Now we can build the application. We can put the widgets together in a nice fashion using the HBox and VBox widgets then display everything."
   ]
  },
  {
   "cell_type": "code",
   "execution_count": 7,
   "metadata": {
    "scrolled": false
   },
   "outputs": [],
   "source": [
    "from astropy.table import Table\n",
    "range_slider = make_date_range_slider(cadc_table)\n",
    "data_list = get_data_list(Table.from_pandas(range_slider.children[0].selection), ext='ccd17')\n",
    "\n",
    "plt.ioff()\n",
    "kbo_fig = kbo_figure(data_list, kbo_name)\n",
    "plt.ion()\n",
    "\n",
    "replot_button = make_replot_button(range_slider, kbo_fig, kbo_name)\n"
   ]
  },
  {
   "cell_type": "code",
   "execution_count": 8,
   "metadata": {
    "scrolled": false
   },
   "outputs": [
    {
     "data": {
      "application/vnd.jupyter.widget-view+json": {
       "model_id": "0adf862efbfd47e489e7e920bfd4ea2d",
       "version_major": 2,
       "version_minor": 0
      },
      "text/plain": [
       "VBox(children=(HBox(children=(VBox(children=(SelectionRangeSlider(description='Date Range:', index=(0, 1), lay…"
      ]
     },
     "metadata": {},
     "output_type": "display_data"
    }
   ],
   "source": [
    "# Organize the widgets\n",
    "b_layout = widgets.Layout(align_items='stretch',\n",
    "                          align_content='center',\n",
    "                          border='none',\n",
    "                          justify_content='center',\n",
    "                          width='100%')\n",
    "\n",
    "aperture_widget = make_aperture_text_widget()\n",
    "silder_and_button = widgets.HBox([range_slider, replot_button], layout=b_layout)\n",
    "big_box = widgets.VBox([silder_and_button, kbo_fig.canvas, aperture_widget], layout=b_layout)\n",
    "\n",
    "display(big_box)"
   ]
  },
  {
   "cell_type": "markdown",
   "metadata": {},
   "source": [
    "Use the interactive toolbar at the bottom of the plot to pan and zoom around. Note that each view is linked, so moving one axes view will move all the others. To select an area to preform an aperture sum, be sure to deselect the zoom/pan button then click in the centre of the area you want to analyze and drag out to the edge. The aperture sum label at the bottom should automatically be filled with the right value. Hopefully this tutorial has given you an understanding of how to build a simple astronomy application in a notebook. "
   ]
  },
  {
   "cell_type": "code",
   "execution_count": null,
   "metadata": {},
   "outputs": [],
   "source": []
  }
 ],
 "metadata": {
  "kernelspec": {
   "display_name": "Python (tutorials)",
   "language": "python",
   "name": "tutorials"
  },
  "language_info": {
   "codemirror_mode": {
    "name": "ipython",
    "version": 3
   },
   "file_extension": ".py",
   "mimetype": "text/x-python",
   "name": "python",
   "nbconvert_exporter": "python",
   "pygments_lexer": "ipython3",
   "version": "3.6.8"
  },
  "widgets": {
   "application/vnd.jupyter.widget-state+json": {
    "state": {
     "0f4a7b4b8284444881c721082dea4104": {
      "model_module": "@jupyter-widgets/base",
      "model_module_version": "1.1.0",
      "model_name": "LayoutModel",
      "state": {
       "align_content": "center",
       "align_items": "center",
       "border": "none",
       "justify_content": "center",
       "width": "100%"
      }
     },
     "1ccabca5de8a42b59bca9dde2444b8e9": {
      "model_module": "@jupyter-widgets/controls",
      "model_module_version": "1.4.0",
      "model_name": "LabelModel",
      "state": {
       "layout": "IPY_MODEL_7cb7b318f99245288affc648cece5f38",
       "style": "IPY_MODEL_f29ce516fc814136b524108a3b4ad9b7",
       "value": "Number of Results: 5"
      }
     },
     "29b64edec6a8450b82e4af87c464e9c1": {
      "model_module": "@jupyter-widgets/base",
      "model_module_version": "1.1.0",
      "model_name": "LayoutModel",
      "state": {}
     },
     "4a62ab74c87b45c7b44ed379a5b08ac8": {
      "model_module": "jupyter-matplotlib",
      "model_module_version": "^0.3.0",
      "model_name": "MPLCanvasModel",
      "state": {
       "_dom_classes": [],
       "_id": "",
       "_toolbar_items": [
        [
         "Home",
         "Reset original view",
         "fa fa-home icon-home",
         "home"
        ],
        [
         "Back",
         "Back to previous view",
         "fa fa-arrow-left icon-arrow-left",
         "back"
        ],
        [
         "Forward",
         "Forward to next view",
         "fa fa-arrow-right icon-arrow-right",
         "forward"
        ],
        [
         "",
         "",
         "",
         ""
        ],
        [
         "Pan",
         "Pan axes with left mouse, zoom with right",
         "fa fa-arrows icon-move",
         "pan"
        ],
        [
         "Zoom",
         "Zoom to rectangle",
         "fa fa-square-o icon-check-empty",
         "zoom"
        ],
        [
         "",
         "",
         "",
         ""
        ],
        [
         "Download",
         "Download plot",
         "fa fa-floppy-o icon-save",
         "download"
        ]
       ],
       "layout": "IPY_MODEL_29b64edec6a8450b82e4af87c464e9c1"
      }
     },
     "58f74bc6222946c99ca7edb0700defb8": {
      "model_module": "@jupyter-widgets/base",
      "model_module_version": "1.1.0",
      "model_name": "LayoutModel",
      "state": {}
     },
     "6713ee7c429f4728be7e6d409ee5c377": {
      "model_module": "@jupyter-widgets/controls",
      "model_module_version": "1.4.0",
      "model_name": "SelectionRangeSliderModel",
      "state": {
       "_model_name": "SelectionRangeSliderModel",
       "_options_labels": [
        " 2010-04-12 ",
        " 2010-04-13 "
       ],
       "_view_name": "SelectionRangeSliderView",
       "description": "Date Range:",
       "index": [
        0,
        1
       ],
       "layout": "IPY_MODEL_7e7f6c0dbcab4d458f5171c12f07a3d7",
       "style": "IPY_MODEL_dfd4320cf2b5405ea07b8a3aada91cd0"
      }
     },
     "7cb7b318f99245288affc648cece5f38": {
      "model_module": "@jupyter-widgets/base",
      "model_module_version": "1.1.0",
      "model_name": "LayoutModel",
      "state": {}
     },
     "7e7f6c0dbcab4d458f5171c12f07a3d7": {
      "model_module": "@jupyter-widgets/base",
      "model_module_version": "1.1.0",
      "model_name": "LayoutModel",
      "state": {
       "width": "700px"
      }
     },
     "815ffd5b05164434bce4633c3b155470": {
      "model_module": "@jupyter-widgets/controls",
      "model_module_version": "1.4.0",
      "model_name": "ButtonStyleModel",
      "state": {}
     },
     "8198bf0a259d4660a64dade3d0f87c7e": {
      "model_module": "@jupyter-widgets/base",
      "model_module_version": "1.1.0",
      "model_name": "LayoutModel",
      "state": {
       "height": "400px",
       "width": "100%"
      }
     },
     "8a318ee3842544d08c818e3b3fdcb795": {
      "model_module": "ipyaladin",
      "model_module_version": "0.1.6",
      "model_name": "ModelAladin",
      "state": {
       "_dom_classes": [],
       "_model_module": "ipyaladin",
       "_view_count": null,
       "_view_module": "ipyaladin",
       "allow_full_zoomout": false,
       "color_map_flag": true,
       "color_map_name": "",
       "coo_frame": "J2000",
       "fov": 0.18668,
       "full_screen": false,
       "layout": "IPY_MODEL_8198bf0a259d4660a64dade3d0f87c7e",
       "listener_flag": true,
       "listener_type": "",
       "log": true,
       "moc_URL": "",
       "moc_dict": {},
       "moc_from_URL_flag": true,
       "moc_from_dict_flag": true,
       "moc_options": {},
       "options": [
        "allow_full_zoomout",
        "coo_frame",
        "fov",
        "full_screen",
        "log",
        "overlay_survey",
        "overlay_survey_opacity",
        "reticle_color",
        "reticle_size",
        "show_catalog",
        "show_coo_grid",
        "show_frame",
        "show_fullscreen_control",
        "show_goto_control",
        "show_layers_control",
        "show_reticle",
        "show_share_control",
        "show_zoom_control",
        "survey",
        "target"
       ],
       "overlay_survey": "",
       "overlay_survey_opacity": 0,
       "rectangular_selection_flag": true,
       "reticle_color": "rgb(178, 50, 178)",
       "reticle_size": 22,
       "show_catalog": true,
       "show_coo_grid": false,
       "show_frame": true,
       "show_fullscreen_control": true,
       "show_goto_control": true,
       "show_layers_control": true,
       "show_reticle": true,
       "show_share_control": false,
       "show_zoom_control": true,
       "survey": "P/DSS2/color",
       "table_columns": [
        [
         "1183654p",
         55298.3486508232,
         "G.MP9401",
         634,
         189.62239200163899,
         15.0459562249869,
         "NGVS+2+3",
         "CFHT/MegaCam",
         "http://www.cadc-ccda.hia-iha.nrc-cnrc.gc.ca/data/pub/CFHT/1183654p.fits.fz",
         "nan"
        ],
        [
         "1183824p",
         55299.294387719005,
         "G.MP9401",
         634,
         189.611366469382,
         15.0497404406177,
         "NGVS+2+3",
         "CFHT/MegaCam",
         "http://www.cadc-ccda.hia-iha.nrc-cnrc.gc.ca/data/pub/CFHT/1183824p.fits.fz",
         "nan"
        ],
        [
         "1183831p",
         55299.351782286794,
         "G.MP9401",
         634,
         189.61069949667598,
         15.049966033155,
         "NGVS+2+3",
         "CFHT/MegaCam",
         "http://www.cadc-ccda.hia-iha.nrc-cnrc.gc.ca/data/pub/CFHT/1183831p.fits.fz",
         "nan"
        ],
        [
         "1183838p",
         55299.4095384231,
         "G.MP9401",
         634,
         189.61002832224202,
         15.0501930468574,
         "NGVS+2+3",
         "CFHT/MegaCam",
         "http://www.cadc-ccda.hia-iha.nrc-cnrc.gc.ca/data/pub/CFHT/1183838p.fits.fz",
         "nan"
        ],
        [
         "1183845p",
         55299.4663084248,
         "G.MP9401",
         634,
         189.609368607514,
         15.050416184503,
         "NGVS+2+3",
         "CFHT/MegaCam",
         "http://www.cadc-ccda.hia-iha.nrc-cnrc.gc.ca/data/pub/CFHT/1183845p.fits.fz",
         "nan"
        ]
       ],
       "table_flag": false,
       "table_keys": [
        "Image",
        "MJD",
        "Filter",
        "Exptime",
        "RA",
        "DEC",
        "Image_target",
        "Telescope/Instrument",
        "MetaData",
        "Datalink"
       ],
       "target": "189.615195 15.049238",
       "thumbnail_flag": true,
       "votable_URL": "",
       "votable_from_URL_flag": true,
       "votable_options": {}
      }
     },
     "9507dfb17d6049b589eb858a1a254386": {
      "model_module": "@jupyter-widgets/controls",
      "model_module_version": "1.4.0",
      "model_name": "HBoxModel",
      "state": {
       "children": [
        "IPY_MODEL_b04aef89b2884c5eb0bb2fa5f5c73b83",
        "IPY_MODEL_e9ffcfbcf69a4891b8f166e5a366be26"
       ],
       "layout": "IPY_MODEL_0f4a7b4b8284444881c721082dea4104"
      }
     },
     "b04aef89b2884c5eb0bb2fa5f5c73b83": {
      "model_module": "@jupyter-widgets/controls",
      "model_module_version": "1.4.0",
      "model_name": "VBoxModel",
      "state": {
       "children": [
        "IPY_MODEL_6713ee7c429f4728be7e6d409ee5c377",
        "IPY_MODEL_1ccabca5de8a42b59bca9dde2444b8e9"
       ],
       "layout": "IPY_MODEL_58f74bc6222946c99ca7edb0700defb8"
      }
     },
     "b0e79b3a72c049568db8740c0d2a4b0b": {
      "model_module": "@jupyter-widgets/controls",
      "model_module_version": "1.4.0",
      "model_name": "HTMLModel",
      "state": {
       "description": "<b>Aperture Sum: </b>",
       "layout": "IPY_MODEL_dea6b45f09b840aab69ef8e81b3b905b",
       "placeholder": "<b>Aperture Sum: </b>",
       "style": "IPY_MODEL_e0a1e9b8f9354103a486766e49b9c3e2",
       "value": "1.8089106e+08"
      }
     },
     "dea6b45f09b840aab69ef8e81b3b905b": {
      "model_module": "@jupyter-widgets/base",
      "model_module_version": "1.1.0",
      "model_name": "LayoutModel",
      "state": {
       "width": "90%"
      }
     },
     "dfd4320cf2b5405ea07b8a3aada91cd0": {
      "model_module": "@jupyter-widgets/controls",
      "model_module_version": "1.4.0",
      "model_name": "DescriptionStyleModel",
      "state": {
       "description_width": ""
      }
     },
     "e0a1e9b8f9354103a486766e49b9c3e2": {
      "model_module": "@jupyter-widgets/controls",
      "model_module_version": "1.4.0",
      "model_name": "DescriptionStyleModel",
      "state": {
       "description_width": "initial"
      }
     },
     "e1c26d78b275426cb4ebdb5c2949de8e": {
      "model_module": "@jupyter-widgets/controls",
      "model_module_version": "1.4.0",
      "model_name": "VBoxModel",
      "state": {
       "children": [
        "IPY_MODEL_9507dfb17d6049b589eb858a1a254386",
        "IPY_MODEL_4a62ab74c87b45c7b44ed379a5b08ac8",
        "IPY_MODEL_b0e79b3a72c049568db8740c0d2a4b0b"
       ],
       "layout": "IPY_MODEL_0f4a7b4b8284444881c721082dea4104"
      }
     },
     "e9ffcfbcf69a4891b8f166e5a366be26": {
      "model_module": "@jupyter-widgets/controls",
      "model_module_version": "1.4.0",
      "model_name": "ButtonModel",
      "state": {
       "description": "Replot",
       "layout": "IPY_MODEL_ea071cb491b64ca48331072a094639f7",
       "style": "IPY_MODEL_815ffd5b05164434bce4633c3b155470"
      }
     },
     "ea071cb491b64ca48331072a094639f7": {
      "model_module": "@jupyter-widgets/base",
      "model_module_version": "1.1.0",
      "model_name": "LayoutModel",
      "state": {}
     },
     "f29ce516fc814136b524108a3b4ad9b7": {
      "model_module": "@jupyter-widgets/controls",
      "model_module_version": "1.4.0",
      "model_name": "DescriptionStyleModel",
      "state": {
       "description_width": ""
      }
     }
    },
    "version_major": 2,
    "version_minor": 0
   }
  }
 },
 "nbformat": 4,
 "nbformat_minor": 2
}
